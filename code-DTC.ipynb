{
 "cells": [
  {
   "cell_type": "code",
   "execution_count": 1,
   "id": "a7bcf74e",
   "metadata": {},
   "outputs": [],
   "source": [
    "import numpy as np\n",
    "import pandas as pd\n",
    "from datetime import datetime\n",
    "import matplotlib.pyplot as plt\n",
    "import seaborn as sns\n",
    "%matplotlib inline\n",
    "from sklearn.metrics import classification_report\n",
    "from sklearn.metrics import confusion_matrix\n",
    "from sklearn.metrics import accuracy_score\n",
    "from sklearn.tree import DecisionTreeClassifier\n",
    "from sklearn.svm import SVC\n",
    "import csv\n",
    "from sklearn import metrics\n"
   ]
  },
  {
   "cell_type": "code",
   "execution_count": 2,
   "id": "58b6f99c",
   "metadata": {},
   "outputs": [],
   "source": [
    "df1=pd.read_csv(\"train.csv\",quoting=csv.QUOTE_NONE, escapechar='\\\\')"
   ]
  },
  {
   "cell_type": "code",
   "execution_count": 3,
   "id": "a900712f",
   "metadata": {},
   "outputs": [
    {
     "name": "stdout",
     "output_type": "stream",
     "text": [
      "<class 'pandas.core.frame.DataFrame'>\n",
      "RangeIndex: 2903024 entries, 0 to 2903023\n",
      "Data columns (total 5 columns):\n",
      " #   Column          Dtype \n",
      "---  ------          ----- \n",
      " 0   TITLE           object\n",
      " 1   DESCRIPTION     object\n",
      " 2   BULLET_POINTS   object\n",
      " 3   BRAND           object\n",
      " 4   BROWSE_NODE_ID  int64 \n",
      "dtypes: int64(1), object(4)\n",
      "memory usage: 110.7+ MB\n"
     ]
    }
   ],
   "source": [
    "df1.info()"
   ]
  },
  {
   "cell_type": "code",
   "execution_count": 4,
   "id": "b6cb4d2b",
   "metadata": {},
   "outputs": [
    {
     "data": {
      "text/plain": [
       "(2903024, 5)"
      ]
     },
     "execution_count": 4,
     "metadata": {},
     "output_type": "execute_result"
    }
   ],
   "source": [
    "df1.shape"
   ]
  },
  {
   "cell_type": "code",
   "execution_count": 5,
   "id": "9853af32",
   "metadata": {},
   "outputs": [
    {
     "data": {
      "text/html": [
       "<div>\n",
       "<style scoped>\n",
       "    .dataframe tbody tr th:only-of-type {\n",
       "        vertical-align: middle;\n",
       "    }\n",
       "\n",
       "    .dataframe tbody tr th {\n",
       "        vertical-align: top;\n",
       "    }\n",
       "\n",
       "    .dataframe thead th {\n",
       "        text-align: right;\n",
       "    }\n",
       "</style>\n",
       "<table border=\"1\" class=\"dataframe\">\n",
       "  <thead>\n",
       "    <tr style=\"text-align: right;\">\n",
       "      <th></th>\n",
       "      <th>TITLE</th>\n",
       "      <th>DESCRIPTION</th>\n",
       "      <th>BULLET_POINTS</th>\n",
       "      <th>BRAND</th>\n",
       "      <th>BROWSE_NODE_ID</th>\n",
       "    </tr>\n",
       "  </thead>\n",
       "  <tbody>\n",
       "    <tr>\n",
       "      <th>0</th>\n",
       "      <td>Pete The Cat Bedtime Blues Doll, 14.5 Inch</td>\n",
       "      <td>Pete the Cat is the coolest, most popular cat ...</td>\n",
       "      <td>[Pete the Cat Bedtime Blues plush doll,Based o...</td>\n",
       "      <td>MerryMakers</td>\n",
       "      <td>0</td>\n",
       "    </tr>\n",
       "    <tr>\n",
       "      <th>1</th>\n",
       "      <td>The New Yorker NYHM014 Refrigerator Magnet, 2 ...</td>\n",
       "      <td>The New Yorker Handsome Cello Wrapped Hard Mag...</td>\n",
       "      <td>[Cat In A Tea Cup by New Yorker cover artist G...</td>\n",
       "      <td>The New Yorker</td>\n",
       "      <td>1</td>\n",
       "    </tr>\n",
       "    <tr>\n",
       "      <th>2</th>\n",
       "      <td>The Ultimate Self-Sufficiency Handbook: A Comp...</td>\n",
       "      <td>NaN</td>\n",
       "      <td>Skyhorse Publishing</td>\n",
       "      <td>imusti</td>\n",
       "      <td>2</td>\n",
       "    </tr>\n",
       "    <tr>\n",
       "      <th>3</th>\n",
       "      <td>Amway Nutrilite Kids Chewable Iron Tablets (100)</td>\n",
       "      <td>NaN</td>\n",
       "      <td>[Nutrilite Kids,Chewable Iron Tablets,Quantity...</td>\n",
       "      <td>Amway</td>\n",
       "      <td>3</td>\n",
       "    </tr>\n",
       "    <tr>\n",
       "      <th>4</th>\n",
       "      <td>Teacher Planner Company A4 6 Lesson Academic T...</td>\n",
       "      <td>NaN</td>\n",
       "      <td>NaN</td>\n",
       "      <td>NaN</td>\n",
       "      <td>4</td>\n",
       "    </tr>\n",
       "  </tbody>\n",
       "</table>\n",
       "</div>"
      ],
      "text/plain": [
       "                                               TITLE  \\\n",
       "0         Pete The Cat Bedtime Blues Doll, 14.5 Inch   \n",
       "1  The New Yorker NYHM014 Refrigerator Magnet, 2 ...   \n",
       "2  The Ultimate Self-Sufficiency Handbook: A Comp...   \n",
       "3   Amway Nutrilite Kids Chewable Iron Tablets (100)   \n",
       "4  Teacher Planner Company A4 6 Lesson Academic T...   \n",
       "\n",
       "                                         DESCRIPTION  \\\n",
       "0  Pete the Cat is the coolest, most popular cat ...   \n",
       "1  The New Yorker Handsome Cello Wrapped Hard Mag...   \n",
       "2                                                NaN   \n",
       "3                                                NaN   \n",
       "4                                                NaN   \n",
       "\n",
       "                                       BULLET_POINTS           BRAND  \\\n",
       "0  [Pete the Cat Bedtime Blues plush doll,Based o...     MerryMakers   \n",
       "1  [Cat In A Tea Cup by New Yorker cover artist G...  The New Yorker   \n",
       "2                                Skyhorse Publishing          imusti   \n",
       "3  [Nutrilite Kids,Chewable Iron Tablets,Quantity...           Amway   \n",
       "4                                                NaN             NaN   \n",
       "\n",
       "   BROWSE_NODE_ID  \n",
       "0               0  \n",
       "1               1  \n",
       "2               2  \n",
       "3               3  \n",
       "4               4  "
      ]
     },
     "execution_count": 5,
     "metadata": {},
     "output_type": "execute_result"
    }
   ],
   "source": [
    "df1.head()"
   ]
  },
  {
   "cell_type": "code",
   "execution_count": 6,
   "id": "80111768",
   "metadata": {},
   "outputs": [
    {
     "data": {
      "text/html": [
       "<div>\n",
       "<style scoped>\n",
       "    .dataframe tbody tr th:only-of-type {\n",
       "        vertical-align: middle;\n",
       "    }\n",
       "\n",
       "    .dataframe tbody tr th {\n",
       "        vertical-align: top;\n",
       "    }\n",
       "\n",
       "    .dataframe thead th {\n",
       "        text-align: right;\n",
       "    }\n",
       "</style>\n",
       "<table border=\"1\" class=\"dataframe\">\n",
       "  <thead>\n",
       "    <tr style=\"text-align: right;\">\n",
       "      <th></th>\n",
       "      <th>TITLE</th>\n",
       "      <th>DESCRIPTION</th>\n",
       "      <th>BULLET_POINTS</th>\n",
       "      <th>BRAND</th>\n",
       "      <th>BROWSE_NODE_ID</th>\n",
       "    </tr>\n",
       "  </thead>\n",
       "  <tbody>\n",
       "    <tr>\n",
       "      <th>0</th>\n",
       "      <td>False</td>\n",
       "      <td>False</td>\n",
       "      <td>False</td>\n",
       "      <td>False</td>\n",
       "      <td>False</td>\n",
       "    </tr>\n",
       "    <tr>\n",
       "      <th>1</th>\n",
       "      <td>False</td>\n",
       "      <td>False</td>\n",
       "      <td>False</td>\n",
       "      <td>False</td>\n",
       "      <td>False</td>\n",
       "    </tr>\n",
       "    <tr>\n",
       "      <th>2</th>\n",
       "      <td>False</td>\n",
       "      <td>True</td>\n",
       "      <td>False</td>\n",
       "      <td>False</td>\n",
       "      <td>False</td>\n",
       "    </tr>\n",
       "    <tr>\n",
       "      <th>3</th>\n",
       "      <td>False</td>\n",
       "      <td>True</td>\n",
       "      <td>False</td>\n",
       "      <td>False</td>\n",
       "      <td>False</td>\n",
       "    </tr>\n",
       "    <tr>\n",
       "      <th>4</th>\n",
       "      <td>False</td>\n",
       "      <td>True</td>\n",
       "      <td>True</td>\n",
       "      <td>True</td>\n",
       "      <td>False</td>\n",
       "    </tr>\n",
       "    <tr>\n",
       "      <th>...</th>\n",
       "      <td>...</td>\n",
       "      <td>...</td>\n",
       "      <td>...</td>\n",
       "      <td>...</td>\n",
       "      <td>...</td>\n",
       "    </tr>\n",
       "    <tr>\n",
       "      <th>2903019</th>\n",
       "      <td>False</td>\n",
       "      <td>False</td>\n",
       "      <td>False</td>\n",
       "      <td>False</td>\n",
       "      <td>False</td>\n",
       "    </tr>\n",
       "    <tr>\n",
       "      <th>2903020</th>\n",
       "      <td>False</td>\n",
       "      <td>False</td>\n",
       "      <td>False</td>\n",
       "      <td>False</td>\n",
       "      <td>False</td>\n",
       "    </tr>\n",
       "    <tr>\n",
       "      <th>2903021</th>\n",
       "      <td>False</td>\n",
       "      <td>False</td>\n",
       "      <td>False</td>\n",
       "      <td>False</td>\n",
       "      <td>False</td>\n",
       "    </tr>\n",
       "    <tr>\n",
       "      <th>2903022</th>\n",
       "      <td>False</td>\n",
       "      <td>False</td>\n",
       "      <td>False</td>\n",
       "      <td>False</td>\n",
       "      <td>False</td>\n",
       "    </tr>\n",
       "    <tr>\n",
       "      <th>2903023</th>\n",
       "      <td>False</td>\n",
       "      <td>False</td>\n",
       "      <td>True</td>\n",
       "      <td>False</td>\n",
       "      <td>False</td>\n",
       "    </tr>\n",
       "  </tbody>\n",
       "</table>\n",
       "<p>2903024 rows × 5 columns</p>\n",
       "</div>"
      ],
      "text/plain": [
       "         TITLE  DESCRIPTION  BULLET_POINTS  BRAND  BROWSE_NODE_ID\n",
       "0        False        False          False  False           False\n",
       "1        False        False          False  False           False\n",
       "2        False         True          False  False           False\n",
       "3        False         True          False  False           False\n",
       "4        False         True           True   True           False\n",
       "...        ...          ...            ...    ...             ...\n",
       "2903019  False        False          False  False           False\n",
       "2903020  False        False          False  False           False\n",
       "2903021  False        False          False  False           False\n",
       "2903022  False        False          False  False           False\n",
       "2903023  False        False           True  False           False\n",
       "\n",
       "[2903024 rows x 5 columns]"
      ]
     },
     "execution_count": 6,
     "metadata": {},
     "output_type": "execute_result"
    }
   ],
   "source": [
    "df1.isnull()"
   ]
  },
  {
   "cell_type": "code",
   "execution_count": 7,
   "id": "bbbb03d3",
   "metadata": {},
   "outputs": [
    {
     "data": {
      "text/plain": [
       "TITLE                 71\n",
       "DESCRIPTION       723664\n",
       "BULLET_POINTS     166263\n",
       "BRAND              56737\n",
       "BROWSE_NODE_ID         0\n",
       "dtype: int64"
      ]
     },
     "execution_count": 7,
     "metadata": {},
     "output_type": "execute_result"
    }
   ],
   "source": [
    "df1.isnull().sum()"
   ]
  },
  {
   "cell_type": "code",
   "execution_count": 8,
   "id": "67b0d3ed",
   "metadata": {},
   "outputs": [
    {
     "data": {
      "text/plain": [
       "Index(['TITLE', 'DESCRIPTION', 'BULLET_POINTS', 'BRAND', 'BROWSE_NODE_ID'], dtype='object')"
      ]
     },
     "execution_count": 8,
     "metadata": {},
     "output_type": "execute_result"
    }
   ],
   "source": [
    "df1.columns"
   ]
  },
  {
   "cell_type": "code",
   "execution_count": 9,
   "id": "d6e33d0e",
   "metadata": {},
   "outputs": [
    {
     "data": {
      "text/plain": [
       "ZEBRA BLINDS Polyester Curtain for Windows Or Outdoor Décor                                                              163\n",
       "Allen Solly Men's Slim fit Casual Shirt                                                                                  145\n",
       "Candere By Kalyan Jewellers 22KT Yellow Gold Ring for Women                                                              136\n",
       "Candere By Kalyan Jewellers 18KT Yellow Gold and Diamond Ring for Women                                                  123\n",
       "Sparx Men's Pack of 2 Casual Shoes                                                                                       110\n",
       "                                                                                                                        ... \n",
       "CFS CREATIVE FRAGRANCE LADY BLUE [100ML]                                                                                   1\n",
       "Aishani Gold Plated Pure Silver Long Necklace Gold Plated Jewellery Necklace for Women                                     1\n",
       "MSR STORE - TVS Apache RTR 160 4V - Water Resistant - UV Protection & Dustproof Full Bike Body Cover (Sky Strip Blue)      1\n",
       "SANCHI Bags Jute and Cotton ECO - Friendly Multicolour School Bag with Laptop Compartment                                  1\n",
       "KNG Orange Polo Tshirt (38)                                                                                                1\n",
       "Name: TITLE, Length: 2751512, dtype: int64"
      ]
     },
     "execution_count": 9,
     "metadata": {},
     "output_type": "execute_result"
    }
   ],
   "source": [
    "df1['TITLE'].value_counts()"
   ]
  },
  {
   "cell_type": "code",
   "execution_count": 10,
   "id": "081ef268",
   "metadata": {},
   "outputs": [
    {
     "data": {
      "text/plain": [
       "2751513"
      ]
     },
     "execution_count": 10,
     "metadata": {},
     "output_type": "execute_result"
    }
   ],
   "source": [
    "len(df1['TITLE'].unique())"
   ]
  },
  {
   "cell_type": "code",
   "execution_count": 11,
   "id": "e0c7a02f",
   "metadata": {},
   "outputs": [
    {
     "data": {
      "text/plain": [
       "Shengshou back covers are the best attractive accessory to make your mobile unique from other models .The Premium case is made out of a light, durable plastic called Polycarbonate.It is strong enough to protect it from bumps, drops and scratches.Wide array of designs and models.A raised bezel protects your display when mobile is laid flat, and the volume and power buttons are explicitly carved, so all buttons and ports are easily accessible. This case is 100% compatible with your regular charger and headphones. Kindly Note: **There may be slight change in color of design printed on case as seen on website, as there can be different monitors/tablets/smart phones settings**.                                                                                                                                                                                                                                                                                                                                                                                                                                                                                                                                     5475\n",
       "NH10 DESIGNS Presents 3D HD Quality Hard Shell Back Covers provides protection to your phone from dust and unnecessary scratches. All designs come in HD and waterproof ink promising uncompromised quality. It has very Precise Cutting of Charging, Mic, Speaker & Headphone Jack etc. NH10 DESIGNS Covers are designer covers which comes in very little quantity almost 5-10 pcs so hurry up.The High Quality Back Cover Protects your phone from Scratches and Bumps. This back cover wraps around the back side of the mobile adding an extra layer of protection over your entire device.Our all covers comes with a 6 months printing warranty(Conditions apply).For any enquiry or customise orders.                                                                                                                                                                                                                                                                                                                                                                                                                                                                                                                                 3172\n",
       "<b>Important message-</b><br><ul><li> All the fashionury product comes up with the fashionury packaging. Warranty is only applicable on the fashionury product.</li><br> <li><b>Fashionury Works for the Quality:</b> We always try to give you best Quality material product to our customer, Our cover is shock absorbent, shatterproof, and anti-scratch material.</li><br> <li><b>Mobile Protection: </b>Help to Protect the back side and hold the phone tightly.</li><br> <li><b>Complete Protection to your Mobile Phone:</b> Complete Protection with thickly four corner prevent getting impact easily.</li><br> <li><b>Installation:</b> Fashionury Printed cover is Easy to remove & install, anti finger print, anti scratch.Cover is removable, Simply has to unbox the cover and has to apply directly, No Tool is required.</li><br> <li><b>Quality Material:</b> Made of Special Material.</li><br> <li><b>Product Fitting:</b>Designed in proper way to give you best fitting experience.</b></li><br> </ul> <i>Important Notice to Buyer's: The picture's used are for Refrence purpose only. Real Product may vary slightly as per the Mobile Design & Model. Phone shown in the picture is not part of the offer. </i>    3003\n",
       "Be Different Now. You had already Purchased a Top and Best Gadget Available in India. Now its Time to Show it. Buy a Real Designer Case that is Super Protective and Enhances Your Style on which is a Hard Plastic thus Protecting your Device from Scratches and Damages and Dust or 90 Degree Falen.Inspired by todays culture stands for innovation,fashion novelty and quality. We understand theat fashionable design is as important as quality protection. That is why at Omnam we design each mobile case to bring the fun back into your life. Each product is designed and crafted in order to protect everyday gadget. The Durable stylish 3d Hardshell Back Case made of special plastic which protect the phone also from Breaking. These are totally Customize design for which we can say make in India and Pritned in India Specially for the buyer.                                                                                                                                                                                                                                                                                                                                                                         2745\n",
       "Super durable and amazing looking phone Cases in matte finish giving a stylish look to your beloved phone! These covers are absolute perfect fits to give you a Prime edge in front of your tough friends and peers who would note you instantly with the decorative, beautiful and charming art. Full Print designs add bling to your core personality. The design is covered on all the sides of the cover unlike cheap Covers only on the back available in the market. So make your Android / iOS device a fancy and fabulous baby! we are India's finest Print-on-Demand online marketplace for buying several products like Mobile cases, posters, canvas art, Mugs. We deal in both B2B and B2C models. We have our in house designing team who provide exceptional designs and the same are being printed on creative daily consumer and luxury products. The 3d printed mobile phone case protector is an awesome product to suit your personality, with precision cutouts for your regular charger and headphones. It is a modern styled cover for those who like to be updated with the trend.                                                                                                                                     2734\n",
       "                                                                                                                                                                                                                                                                                                                                                                                                                                                                                                                                                                                                                                                                                                                                                                                                                                                                                                                                                                                                                                                                                                                                                                                                                                              ... \n",
       "Condition: new: a brand-new, unused, unopened, undamaged item (including handmade items), brand: dr4u, country/region of manufacture: korea, republic of, skin type: all skin types                                                                                                                                                                                                                                                                                                                                                                                                                                                                                                                                                                                                                                                                                                                                                                                                                                                                                                                                                                                                                                                              1\n",
       "Whether you travel by plane, train or car, first-class skin and hair products will make all the difference on arrival. Our small, eminently portable travel kits contain all you need to smooth your passage, to assist you in surviving long journeys and endless office days. Completely budget friendly. Travel in Style with our New Bold & Stylish Travel Edits. Contents: Watercress Hair Cleanser (30 ml) Watercress Hair Conditioner Conditioner (30 ml) Lavender Lotion (30 ml) Lemongrass Body Wash (30 ml)                                                                                                                                                                                                                                                                                                                                                                                                                                                                                                                                                                                                                                                                                                                            1\n",
       "FIT ONLY FOR Lenovo S850 ! not For any others, Kindly CHECK YOUR MOBILE MODEL BEFORE ORDERING::NO REPLACEMENTS OR REFUNDS IF INCORRECTLY ORDERED FOR SOME WRONG PHONE::Access To All Buttons::Provides Better Grip::Protects from Scratch::Perfect Fit::Protects From Drops::Durable::Top Quality Guaranteed                                                                                                                                                                                                                                                                                                                                                                                                                                                                                                                                                                                                                                                                                                                                                                                                                                                                                                                                     1\n",
       "Description:<br />Carbon motor brushes are one of the most commonly replaced power tool components.<br />Worn brushes are often the cause of a poorly running motor.<br />Replacing brushes can fix an intermittent motor.<br />New brushes can restore electric braking of a motor.<br /><br />Specification:<br />Dimension: 10mmx25mmx50mm/0.39inchx1inchx1.97inch(L*W*H)<br />Wire Length: 12cm/4.72inch<br />Material: Carbon, Copper<br />Net Weight: 27g<br />Main Color: Black<br /><br />Package Content:<br />1 x Carbon Brush<br /><br />                                                                                                                                                                                                                                                                                                                                                                                                                                                                                                                                                                                                                                                                                             1\n",
       "Performance inspired by comfort. The polo shirt mixes the comfort of cotton with the exceptional wicking performance of polyester. Short sleeves, Rib knit collar                                                                                                                                                                                                                                                                                                                                                                                                                                                                                                                                                                                                                                                                                                                                                                                                                                                                                                                                                                                                                                                                                1\n",
       "Name: DESCRIPTION, Length: 1278942, dtype: int64"
      ]
     },
     "execution_count": 11,
     "metadata": {},
     "output_type": "execute_result"
    }
   ],
   "source": [
    "df1['DESCRIPTION'].value_counts()"
   ]
  },
  {
   "cell_type": "code",
   "execution_count": 12,
   "id": "977375c3",
   "metadata": {},
   "outputs": [
    {
     "data": {
      "text/plain": [
       "1278943"
      ]
     },
     "execution_count": 12,
     "metadata": {},
     "output_type": "execute_result"
    }
   ],
   "source": [
    "len(df1['DESCRIPTION'].unique())"
   ]
  },
  {
   "cell_type": "code",
   "execution_count": 13,
   "id": "9ff08e43",
   "metadata": {},
   "outputs": [
    {
     "data": {
      "text/plain": [
       "Generic                      107303\n",
       "Puma                          14131\n",
       "United Colors of Benetton     11821\n",
       "Max                           11180\n",
       "US Polo Association            8570\n",
       "                              ...  \n",
       "OraTec                            1\n",
       "creazydog                         1\n",
       "Ilonish                           1\n",
       "Altis Ware                        1\n",
       "TORR-TO                           1\n",
       "Name: BRAND, Length: 258265, dtype: int64"
      ]
     },
     "execution_count": 13,
     "metadata": {},
     "output_type": "execute_result"
    }
   ],
   "source": [
    "df1.BRAND.value_counts()"
   ]
  },
  {
   "cell_type": "code",
   "execution_count": 14,
   "id": "416360fe",
   "metadata": {},
   "outputs": [
    {
     "data": {
      "text/plain": [
       "258266"
      ]
     },
     "execution_count": 14,
     "metadata": {},
     "output_type": "execute_result"
    }
   ],
   "source": [
    "len(df1['BRAND'].unique())"
   ]
  },
  {
   "cell_type": "code",
   "execution_count": 15,
   "id": "75836fee",
   "metadata": {},
   "outputs": [
    {
     "data": {
      "text/plain": [
       "[OUT OF THE BOX DESIGNS & VIBRANT PRINT : Our collection is made by keeping in mind the rich culture and trends of our Indian country. Designs & durability of the material is top notch with high definition print quality and drop down protection.,PREMIUM QUALITY : PikkMe cases are 3D printed high quality mobile back guard,printed with high-end Korean Ink Technology.Pouches are made with premium hard Polycarbonate (plastic) material with fully matte finish for upgraded style and durability.Also they are very light weight and slim / ultra thin that perfectly fits your phone and even don’t look bulky. Note : It’s PREMIUM PLASTIC mobile back pouch and NOT silicon or rubber or fabric or leather or any other material and accessories.,ACCURATE FITTING : This cover perfectly fits your phone.These cases are made with high precision moulds covering sides and corners properly with highly accurate cut- outs for all ports and buttons.,LIFETIME WARRANTY : PikkMe provides lifetime warranty for the print quality.In case any of your products gets fade away with time,we will provide you a new panel with no question asked.Please note that this warranty is only for colors, and not for rough usage, scratches or any kind of breakage.,BEST SUITED AS A GIFT : PikkMe cases are best suited as a gift item to your friends,family members(for both girls and boys) .They are highly accurate and so vibrant which makes them one of best gift for your loved ones.Product comes under the price range of Rs 300.]                                   4351\n",
       "[Printfidaa is \"Made in India' product using sublimation printing process, with print covering all 3 sides of cover.,Due to the nature of different monitors/tablets/smart phones, color variation may occur and the product may look slightly different in person being a handmade item.,Printfidaa Cases are waterproof, fade resistant, non-peeling, printed with vibrant eco-friendly inks, extremely slim fitting with access to all functions.,Printfidaa offers lifetime print/design guarantee.,Printfidaa this cover provides with maximum protection to your phone and maximum comfort for use.]                                                                                                                                                                                                                                                                                                                                                                                                                                                                                                                                                                                                                                                                                                                                                                                                                                                                                                                                                                                  3549\n",
       "[Cuttings-Precise Cut-outs for Charging, Mic, Speaker & Headphone Jack.,Reliable Protection-Protection from Minor Bumps and Scratches and Your Phone Remains Like Brand New.,Quality-HD Colours Never Fade Away with matt finish look,Installation-Easy Installation and Removal.,Final Product May Vary Slightly in Colour from The Display Image Due to The Differences Between Printing and Graphic Colouring Methods.]                                                                                                                                                                                                                                                                                                                                                                                                                                                                                                                                                                                                                                                                                                                                                                                                                                                                                                                                                                                                                                                                                                                                                                  3088\n",
       "[Protect Your Phone from Dust,Scratches and Full Protect for 90 Degree Fallen.,Premium Matte TPU Material to Give an Excellent Grip Better then Transparent Cover or Jelly Cover,3D Printed Light Weight and Multicolor and Perfect for Daily Use.,This Case is Fully Compitable with Charger or Earphone. Specially Designed and Printed in India.,It protects your Phone back and frame from Fingerprints, Scratches, Dusts, Collisions And Abrasion]                                                                                                                                                                                                                                                                                                                                                                                                                                                                                                                                                                                                                                                                                                                                                                                                                                                                                                                                                                                                                                                                                                                                     2731\n",
       "[Stand Out in Crowd with Exclusively Designed Premium Case from our Best Designers for your Mobile and Surround your Device with Quality Designs that Demands Attention.,Made from Hard Polycarbonate Plastic, that will protect your Phone from minor Bumps and Scratches and keeps your Phone in Pristine Condition. This premium case printed from all 3 Dimentions and first time this case made available in India,Premium Design Printed on Matte Finish Surface Imaging and Printing Technology results in High Resolution Designs Printed in all 3 Dimentions,This Cover Provides with Maximum Protection to your Phone and Maximum Comfort for use. Raised Lip Design Protects the Front Screen and Edges from Scuffs and Scratches. Open buttons and Exact Cut-outs Allow Easy Access to Phone Functions.,Designs are hand made with love which gives you a personalized and customized feeling that looks super cute in beaches to city to mountains.]                                                                                                                                                                                                                                                                                                                                                                                                                                                                                                                                                                                                                           2677\n",
       "                                                                                                                                                                                                                                                                                                                                                                                                                                                                                                                                                                                                                                                                                                                                                                                                                                                                                                                                                                                                                                                                                                                                                                                                                                                                                                                                                                                                                                                                                                                                                                                            ... \n",
       "[Handcrafted in wood excellent handle: :reinforced with firmly wound string and rubber sleeve: :perfect bat for any home or club play: :light weight at only 3 lbs: :material: high quality wood,Though quinergys bats are stroked and ready to use, we strongly recommend the players to stroke the bat for one week atleast for 15min/day. The edges and toe of the blade require particular attention using glancing blows off the face to harden and round these areas. Particular care and attention should be made not to hit the edges, toe or back of the bat directly as this will cause damage.,The knocking in should be performed with gradual increasing force, but never too hard to cause damage, if seam marks and indentations occur further knocking in is required.,Step by step guide to knocking in, apply raw linseed oil to the face, edges and back of the bat evenly, 2 to 3 teaspoons of oil is the correct amount. Whilst oiling take care not to oil the splice (where the handle fits into the blade),handle or labelled areas, also take great care not to over oil the bat as this will deaden the fibres of the timber and affect performance.,leave the bat horizontal and face up to dry for 24 hours, if you are planning to use the bat in its natural state, without an anti scuff sheet, then repeat steps 1 and 2 twice more. If you are planning to have a protective anti scuff sheet fitted then one initial coat of oil is sufficient. wipe off any excess oil and knock in your bat with a specialist bat mallet for approximately 4 hours.]       1\n",
       "[Safe, Green and Environment Protected . ( SHIPPED IN RANDOM COLOR ) ( 3 MONTHS SELLER WARRANTY IN CASE OF ANY DEFECT ),Works on Advanced LED Technology. Integrated Light, Electricity & Air flowing Mosquito Killing Technology .,No Chemical : No Fume : Odorless : No Side Effects : No Harmful Microwave Radiations : Soundless .,Ideal For Small Kids, Adults & Elderly People As It Kills Mosquitoes By Attracting Towards It .,Low Power Consumption, Energy Saving, Safe & Effective, Soft Light that Can also be Used as a Night Lamp .]                                                                                                                                                                                                                                                                                                                                                                                                                                                                                                                                                                                                                                                                                                                                                                                                                                                                                                                                                                                                                                             1\n",
       "[CUSTOM PRINTED FOR YOU: Differentiate yourself with this customised cover printed specially for your Samsung Galaxy J8,EDGE PROTECTION: This phone case for Samsung Galaxy J8 gives full coverage on the corners, for extra safety to your phone.,LIGHT WEIGHT: This printed case for Samsung Galaxy J8 is made with very light weight material. It protects your phone without adding extra weight.,ALL OVER PRINT: This printed designer case for Samsung Galaxy J8 has all round print coverage that gives an elegant look to your phone.,EASY ACCESS: This stylish phone case for Samsung Galaxy J8 is with design The Best Brother and has open cuts on buttons and ports areas.]                                                                                                                                                                                                                                                                                                                                                                                                                                                                                                                                                                                                                                                                                                                                                                                                                                                                                                        1\n",
       "[Women's & Girls 100 % Modal Scarf ( Size- 90 X 100 Cm),Color: Multicolor, Map: Orange,Size : 90 X 100 CM,Wash Care- Wash in Normal Water,Soft Material Pure Modal]                                                                                                                                                                                                                                                                                                                                                                                                                                                                                                                                                                                                                                                                                                                                                                                                                                                                                                                                                                                                                                                                                                                                                                                                                                                                                                                                                                                                                            1\n",
       "[350 MICRONS PACK OF 5 PCS,COMPLETE FACE PROTECTION: Torr-to Face Shield effectively isolates your face from saliva, spray, splatter, droplet, dust, oil and smoke while offering crystal clear vision for ease in doing tasks.,COMFORTABLE, ADJUSTABLE & REUSABLE: Equipped with 350 micron sheet with elastic band and sponge headband which is suitable for extended wear.,ANTI-FOG & ANTI-STATIC: It is coated with anti-fog and anti-static materials to ensure maximum visibility like it’s not even on your face. Good solution for keeping mist and droplets off your face.,FITS FOR ALL: Easy to adjust for a custom fit, thanks to its elastic headband that offers a secure fit on all head sizes. HUMANIZED PROTECTIVE COVER: Our offered Anti-Splash Facial Shield perfectly fits over prescription glasses for effortless working in environments such as Hospitals, Lab, Woodworking, etc]                                                                                                                                                                                                                                                                                                                                                                                                                                                                                                                                                                                                                                                                                      1\n",
       "Name: BULLET_POINTS, Length: 1668898, dtype: int64"
      ]
     },
     "execution_count": 15,
     "metadata": {},
     "output_type": "execute_result"
    }
   ],
   "source": [
    "df1['BULLET_POINTS'].value_counts()"
   ]
  },
  {
   "cell_type": "code",
   "execution_count": 16,
   "id": "b9a45ab4",
   "metadata": {},
   "outputs": [
    {
     "data": {
      "text/plain": [
       "1668899"
      ]
     },
     "execution_count": 16,
     "metadata": {},
     "output_type": "execute_result"
    }
   ],
   "source": [
    "len(df1['BULLET_POINTS'].unique())"
   ]
  },
  {
   "cell_type": "code",
   "execution_count": 17,
   "id": "ed1650d0",
   "metadata": {},
   "outputs": [],
   "source": [
    "def impute_NAN(df1, variable):\n",
    "    df1[variable] = np.where(df1[variable].isnull(), \"Missing\", df1[variable])"
   ]
  },
  {
   "cell_type": "code",
   "execution_count": 18,
   "id": "123fd5a3",
   "metadata": {},
   "outputs": [],
   "source": [
    "for feature in ['TITLE', 'DESCRIPTION', 'BULLET_POINTS', 'BRAND']:\n",
    "    impute_NAN(df1, feature)"
   ]
  },
  {
   "cell_type": "code",
   "execution_count": 19,
   "id": "5139f827",
   "metadata": {},
   "outputs": [
    {
     "data": {
      "text/html": [
       "<div>\n",
       "<style scoped>\n",
       "    .dataframe tbody tr th:only-of-type {\n",
       "        vertical-align: middle;\n",
       "    }\n",
       "\n",
       "    .dataframe tbody tr th {\n",
       "        vertical-align: top;\n",
       "    }\n",
       "\n",
       "    .dataframe thead th {\n",
       "        text-align: right;\n",
       "    }\n",
       "</style>\n",
       "<table border=\"1\" class=\"dataframe\">\n",
       "  <thead>\n",
       "    <tr style=\"text-align: right;\">\n",
       "      <th></th>\n",
       "      <th>TITLE</th>\n",
       "      <th>DESCRIPTION</th>\n",
       "      <th>BULLET_POINTS</th>\n",
       "      <th>BRAND</th>\n",
       "      <th>BROWSE_NODE_ID</th>\n",
       "    </tr>\n",
       "  </thead>\n",
       "  <tbody>\n",
       "    <tr>\n",
       "      <th>0</th>\n",
       "      <td>Pete The Cat Bedtime Blues Doll, 14.5 Inch</td>\n",
       "      <td>Pete the Cat is the coolest, most popular cat ...</td>\n",
       "      <td>[Pete the Cat Bedtime Blues plush doll,Based o...</td>\n",
       "      <td>MerryMakers</td>\n",
       "      <td>0</td>\n",
       "    </tr>\n",
       "    <tr>\n",
       "      <th>1</th>\n",
       "      <td>The New Yorker NYHM014 Refrigerator Magnet, 2 ...</td>\n",
       "      <td>The New Yorker Handsome Cello Wrapped Hard Mag...</td>\n",
       "      <td>[Cat In A Tea Cup by New Yorker cover artist G...</td>\n",
       "      <td>The New Yorker</td>\n",
       "      <td>1</td>\n",
       "    </tr>\n",
       "    <tr>\n",
       "      <th>2</th>\n",
       "      <td>The Ultimate Self-Sufficiency Handbook: A Comp...</td>\n",
       "      <td>Missing</td>\n",
       "      <td>Skyhorse Publishing</td>\n",
       "      <td>imusti</td>\n",
       "      <td>2</td>\n",
       "    </tr>\n",
       "    <tr>\n",
       "      <th>3</th>\n",
       "      <td>Amway Nutrilite Kids Chewable Iron Tablets (100)</td>\n",
       "      <td>Missing</td>\n",
       "      <td>[Nutrilite Kids,Chewable Iron Tablets,Quantity...</td>\n",
       "      <td>Amway</td>\n",
       "      <td>3</td>\n",
       "    </tr>\n",
       "    <tr>\n",
       "      <th>4</th>\n",
       "      <td>Teacher Planner Company A4 6 Lesson Academic T...</td>\n",
       "      <td>Missing</td>\n",
       "      <td>Missing</td>\n",
       "      <td>Missing</td>\n",
       "      <td>4</td>\n",
       "    </tr>\n",
       "    <tr>\n",
       "      <th>5</th>\n",
       "      <td>Men'S Full Sleeve Raglan T-Shirts Denim T-Shir...</td>\n",
       "      <td>Men'S Full Sleeve Raglan T-Shirts Denim T-Shir...</td>\n",
       "      <td>[Color: Blue,Sleeve: Full Sleeve,Material: Cot...</td>\n",
       "      <td>Bhavya Enterprise</td>\n",
       "      <td>5</td>\n",
       "    </tr>\n",
       "    <tr>\n",
       "      <th>6</th>\n",
       "      <td>Glance Women's Wallet (Black) (LW-21)</td>\n",
       "      <td>This Black wallet by Glance will be a treasure...</td>\n",
       "      <td>[The Most Comfortable Women's Wallet That You ...</td>\n",
       "      <td>Glance</td>\n",
       "      <td>6</td>\n",
       "    </tr>\n",
       "    <tr>\n",
       "      <th>7</th>\n",
       "      <td>Wild Animals Hungry Brain Educational Flash Ca...</td>\n",
       "      <td>Wild Animals are the animals that mostly stays...</td>\n",
       "      <td>[Playful learning: Flash cards develops the lo...</td>\n",
       "      <td>hungry brain</td>\n",
       "      <td>7</td>\n",
       "    </tr>\n",
       "    <tr>\n",
       "      <th>8</th>\n",
       "      <td>Hindi Barakhadi Educational Flash Cards for Ki...</td>\n",
       "      <td>Hindi vowel signs and sounds are very importan...</td>\n",
       "      <td>[Playful learning: Flash cards develops the lo...</td>\n",
       "      <td>hungry brain</td>\n",
       "      <td>7</td>\n",
       "    </tr>\n",
       "    <tr>\n",
       "      <th>9</th>\n",
       "      <td>Chapin 1380 Premier Pro 3-Gallon Tri-Poxy Stee...</td>\n",
       "      <td>Chapin 1380 Premier Pro 3-Gallon Tri-Poxy Stee...</td>\n",
       "      <td>Missing</td>\n",
       "      <td>Chapin International</td>\n",
       "      <td>9</td>\n",
       "    </tr>\n",
       "    <tr>\n",
       "      <th>10</th>\n",
       "      <td>Slo-Niacin Polygel Controlled-Release Niacin, ...</td>\n",
       "      <td>Missing</td>\n",
       "      <td>Missing</td>\n",
       "      <td>Missing</td>\n",
       "      <td>10</td>\n",
       "    </tr>\n",
       "    <tr>\n",
       "      <th>11</th>\n",
       "      <td>White : Braun KF400-WH Aromaster 10-Cup Coffee...</td>\n",
       "      <td>Color:White Product description 10 Cup Carafe ...</td>\n",
       "      <td>[Water-dispersal system provides fast, uniform...</td>\n",
       "      <td>Braun</td>\n",
       "      <td>11</td>\n",
       "    </tr>\n",
       "    <tr>\n",
       "      <th>12</th>\n",
       "      <td>Yamaha PCMSKIT Portable Electronic Keyboard Ad...</td>\n",
       "      <td>Missing</td>\n",
       "      <td>[Software teaches you how to play, read music,...</td>\n",
       "      <td>YAMAHA</td>\n",
       "      <td>12</td>\n",
       "    </tr>\n",
       "    <tr>\n",
       "      <th>13</th>\n",
       "      <td>Microsoft Sidewinder Gamepad Pro</td>\n",
       "      <td>Missing</td>\n",
       "      <td>Dual-function D-Pad for comfortable control - ...</td>\n",
       "      <td>Microsoft</td>\n",
       "      <td>13</td>\n",
       "    </tr>\n",
       "    <tr>\n",
       "      <th>14</th>\n",
       "      <td>Jiffy Steamer with Plastic Steam Head (Beige, ...</td>\n",
       "      <td>Jiffy J-2000 clothes steamer, 1300 watts, with...</td>\n",
       "      <td>[1300 watt solid brass heating element (120 vo...</td>\n",
       "      <td>Jiffy</td>\n",
       "      <td>14</td>\n",
       "    </tr>\n",
       "    <tr>\n",
       "      <th>15</th>\n",
       "      <td>YASHICA Open Box OPTICAL OPTICAL Zoomate 140 3...</td>\n",
       "      <td>Missing</td>\n",
       "      <td>[A precise and fast zoom lens for sharpness an...</td>\n",
       "      <td>Missing</td>\n",
       "      <td>15</td>\n",
       "    </tr>\n",
       "    <tr>\n",
       "      <th>16</th>\n",
       "      <td>OXO Good Grips BPA-Free Turkey Baster with Cle...</td>\n",
       "      <td>&lt;b&gt;OXO Good Grips Turkey Baster&lt;/b&gt;&lt;br&gt;&lt;br&gt;&lt;ul...</td>\n",
       "      <td>[Unique bulb shape and collar for two comforta...</td>\n",
       "      <td>OXO</td>\n",
       "      <td>16</td>\n",
       "    </tr>\n",
       "    <tr>\n",
       "      <th>17</th>\n",
       "      <td>Sony VAIO RoomLink Network Media Receiver (PCN...</td>\n",
       "      <td>Missing</td>\n",
       "      <td>[Use RoomLInk media receiver to Record Live TV...</td>\n",
       "      <td>Sony</td>\n",
       "      <td>17</td>\n",
       "    </tr>\n",
       "    <tr>\n",
       "      <th>18</th>\n",
       "      <td>Westcott 5684 5 x 6 Feet Collapsible Backdrop ...</td>\n",
       "      <td>Westcott offers many styles and colors of qual...</td>\n",
       "      <td>[Effortlessly opens and collapses in seconds,B...</td>\n",
       "      <td>Westcott</td>\n",
       "      <td>18</td>\n",
       "    </tr>\n",
       "    <tr>\n",
       "      <th>19</th>\n",
       "      <td>InterDesign 14 by 9 by 5-Inch Basic Basket, Me...</td>\n",
       "      <td>Plastic basket with chrome handle. You can sto...</td>\n",
       "      <td>[Made of extra durable translucent plastic,Chr...</td>\n",
       "      <td>InterDesign</td>\n",
       "      <td>19</td>\n",
       "    </tr>\n",
       "  </tbody>\n",
       "</table>\n",
       "</div>"
      ],
      "text/plain": [
       "                                                TITLE  \\\n",
       "0          Pete The Cat Bedtime Blues Doll, 14.5 Inch   \n",
       "1   The New Yorker NYHM014 Refrigerator Magnet, 2 ...   \n",
       "2   The Ultimate Self-Sufficiency Handbook: A Comp...   \n",
       "3    Amway Nutrilite Kids Chewable Iron Tablets (100)   \n",
       "4   Teacher Planner Company A4 6 Lesson Academic T...   \n",
       "5   Men'S Full Sleeve Raglan T-Shirts Denim T-Shir...   \n",
       "6               Glance Women's Wallet (Black) (LW-21)   \n",
       "7   Wild Animals Hungry Brain Educational Flash Ca...   \n",
       "8   Hindi Barakhadi Educational Flash Cards for Ki...   \n",
       "9   Chapin 1380 Premier Pro 3-Gallon Tri-Poxy Stee...   \n",
       "10  Slo-Niacin Polygel Controlled-Release Niacin, ...   \n",
       "11  White : Braun KF400-WH Aromaster 10-Cup Coffee...   \n",
       "12  Yamaha PCMSKIT Portable Electronic Keyboard Ad...   \n",
       "13                   Microsoft Sidewinder Gamepad Pro   \n",
       "14  Jiffy Steamer with Plastic Steam Head (Beige, ...   \n",
       "15  YASHICA Open Box OPTICAL OPTICAL Zoomate 140 3...   \n",
       "16  OXO Good Grips BPA-Free Turkey Baster with Cle...   \n",
       "17  Sony VAIO RoomLink Network Media Receiver (PCN...   \n",
       "18  Westcott 5684 5 x 6 Feet Collapsible Backdrop ...   \n",
       "19  InterDesign 14 by 9 by 5-Inch Basic Basket, Me...   \n",
       "\n",
       "                                          DESCRIPTION  \\\n",
       "0   Pete the Cat is the coolest, most popular cat ...   \n",
       "1   The New Yorker Handsome Cello Wrapped Hard Mag...   \n",
       "2                                             Missing   \n",
       "3                                             Missing   \n",
       "4                                             Missing   \n",
       "5   Men'S Full Sleeve Raglan T-Shirts Denim T-Shir...   \n",
       "6   This Black wallet by Glance will be a treasure...   \n",
       "7   Wild Animals are the animals that mostly stays...   \n",
       "8   Hindi vowel signs and sounds are very importan...   \n",
       "9   Chapin 1380 Premier Pro 3-Gallon Tri-Poxy Stee...   \n",
       "10                                            Missing   \n",
       "11  Color:White Product description 10 Cup Carafe ...   \n",
       "12                                            Missing   \n",
       "13                                            Missing   \n",
       "14  Jiffy J-2000 clothes steamer, 1300 watts, with...   \n",
       "15                                            Missing   \n",
       "16  <b>OXO Good Grips Turkey Baster</b><br><br><ul...   \n",
       "17                                            Missing   \n",
       "18  Westcott offers many styles and colors of qual...   \n",
       "19  Plastic basket with chrome handle. You can sto...   \n",
       "\n",
       "                                        BULLET_POINTS                 BRAND  \\\n",
       "0   [Pete the Cat Bedtime Blues plush doll,Based o...           MerryMakers   \n",
       "1   [Cat In A Tea Cup by New Yorker cover artist G...        The New Yorker   \n",
       "2                                 Skyhorse Publishing                imusti   \n",
       "3   [Nutrilite Kids,Chewable Iron Tablets,Quantity...                 Amway   \n",
       "4                                             Missing               Missing   \n",
       "5   [Color: Blue,Sleeve: Full Sleeve,Material: Cot...     Bhavya Enterprise   \n",
       "6   [The Most Comfortable Women's Wallet That You ...                Glance   \n",
       "7   [Playful learning: Flash cards develops the lo...          hungry brain   \n",
       "8   [Playful learning: Flash cards develops the lo...          hungry brain   \n",
       "9                                             Missing  Chapin International   \n",
       "10                                            Missing               Missing   \n",
       "11  [Water-dispersal system provides fast, uniform...                 Braun   \n",
       "12  [Software teaches you how to play, read music,...                YAMAHA   \n",
       "13  Dual-function D-Pad for comfortable control - ...             Microsoft   \n",
       "14  [1300 watt solid brass heating element (120 vo...                 Jiffy   \n",
       "15  [A precise and fast zoom lens for sharpness an...               Missing   \n",
       "16  [Unique bulb shape and collar for two comforta...                   OXO   \n",
       "17  [Use RoomLInk media receiver to Record Live TV...                  Sony   \n",
       "18  [Effortlessly opens and collapses in seconds,B...              Westcott   \n",
       "19  [Made of extra durable translucent plastic,Chr...           InterDesign   \n",
       "\n",
       "    BROWSE_NODE_ID  \n",
       "0                0  \n",
       "1                1  \n",
       "2                2  \n",
       "3                3  \n",
       "4                4  \n",
       "5                5  \n",
       "6                6  \n",
       "7                7  \n",
       "8                7  \n",
       "9                9  \n",
       "10              10  \n",
       "11              11  \n",
       "12              12  \n",
       "13              13  \n",
       "14              14  \n",
       "15              15  \n",
       "16              16  \n",
       "17              17  \n",
       "18              18  \n",
       "19              19  "
      ]
     },
     "execution_count": 19,
     "metadata": {},
     "output_type": "execute_result"
    }
   ],
   "source": [
    "df1.head(20)"
   ]
  },
  {
   "cell_type": "code",
   "execution_count": 20,
   "id": "b6bd94e6",
   "metadata": {},
   "outputs": [
    {
     "data": {
      "text/plain": [
       "TITLE             0\n",
       "DESCRIPTION       0\n",
       "BULLET_POINTS     0\n",
       "BRAND             0\n",
       "BROWSE_NODE_ID    0\n",
       "dtype: int64"
      ]
     },
     "execution_count": 20,
     "metadata": {},
     "output_type": "execute_result"
    }
   ],
   "source": [
    "df1.isnull().sum()"
   ]
  },
  {
   "cell_type": "code",
   "execution_count": 21,
   "id": "e2fc04c2",
   "metadata": {},
   "outputs": [
    {
     "name": "stdout",
     "output_type": "stream",
     "text": [
      "<class 'pandas.core.frame.DataFrame'>\n",
      "RangeIndex: 2903024 entries, 0 to 2903023\n",
      "Data columns (total 5 columns):\n",
      " #   Column          Dtype \n",
      "---  ------          ----- \n",
      " 0   TITLE           object\n",
      " 1   DESCRIPTION     object\n",
      " 2   BULLET_POINTS   object\n",
      " 3   BRAND           object\n",
      " 4   BROWSE_NODE_ID  int64 \n",
      "dtypes: int64(1), object(4)\n",
      "memory usage: 110.7+ MB\n"
     ]
    }
   ],
   "source": [
    "df1.info()"
   ]
  },
  {
   "cell_type": "code",
   "execution_count": 22,
   "id": "3796818f",
   "metadata": {},
   "outputs": [
    {
     "data": {
      "text/plain": [
       "ZEBRA BLINDS Polyester Curtain for Windows Or Outdoor Décor                                                              163\n",
       "Allen Solly Men's Slim fit Casual Shirt                                                                                  145\n",
       "Candere By Kalyan Jewellers 22KT Yellow Gold Ring for Women                                                              136\n",
       "Candere By Kalyan Jewellers 18KT Yellow Gold and Diamond Ring for Women                                                  123\n",
       "Sparx Men's Pack of 2 Casual Shoes                                                                                       110\n",
       "                                                                                                                        ... \n",
       "CFS CREATIVE FRAGRANCE LADY BLUE [100ML]                                                                                   1\n",
       "Aishani Gold Plated Pure Silver Long Necklace Gold Plated Jewellery Necklace for Women                                     1\n",
       "MSR STORE - TVS Apache RTR 160 4V - Water Resistant - UV Protection & Dustproof Full Bike Body Cover (Sky Strip Blue)      1\n",
       "SANCHI Bags Jute and Cotton ECO - Friendly Multicolour School Bag with Laptop Compartment                                  1\n",
       "KNG Orange Polo Tshirt (38)                                                                                                1\n",
       "Name: TITLE, Length: 2751513, dtype: int64"
      ]
     },
     "execution_count": 22,
     "metadata": {},
     "output_type": "execute_result"
    }
   ],
   "source": [
    "df1.TITLE.value_counts()"
   ]
  },
  {
   "cell_type": "code",
   "execution_count": 23,
   "id": "57974cab",
   "metadata": {},
   "outputs": [
    {
     "data": {
      "text/plain": [
       "Missing                                                                                                                                                                                                                                                                                                                                                                                                                                                                                                                                                                                                                                                                                                                                                                                                                                                                                                                                                                                                                                                                                                                                                                                                                                       723664\n",
       "Shengshou back covers are the best attractive accessory to make your mobile unique from other models .The Premium case is made out of a light, durable plastic called Polycarbonate.It is strong enough to protect it from bumps, drops and scratches.Wide array of designs and models.A raised bezel protects your display when mobile is laid flat, and the volume and power buttons are explicitly carved, so all buttons and ports are easily accessible. This case is 100% compatible with your regular charger and headphones. Kindly Note: **There may be slight change in color of design printed on case as seen on website, as there can be different monitors/tablets/smart phones settings**.                                                                                                                                                                                                                                                                                                                                                                                                                                                                                                                                       5475\n",
       "NH10 DESIGNS Presents 3D HD Quality Hard Shell Back Covers provides protection to your phone from dust and unnecessary scratches. All designs come in HD and waterproof ink promising uncompromised quality. It has very Precise Cutting of Charging, Mic, Speaker & Headphone Jack etc. NH10 DESIGNS Covers are designer covers which comes in very little quantity almost 5-10 pcs so hurry up.The High Quality Back Cover Protects your phone from Scratches and Bumps. This back cover wraps around the back side of the mobile adding an extra layer of protection over your entire device.Our all covers comes with a 6 months printing warranty(Conditions apply).For any enquiry or customise orders.                                                                                                                                                                                                                                                                                                                                                                                                                                                                                                                                   3172\n",
       "<b>Important message-</b><br><ul><li> All the fashionury product comes up with the fashionury packaging. Warranty is only applicable on the fashionury product.</li><br> <li><b>Fashionury Works for the Quality:</b> We always try to give you best Quality material product to our customer, Our cover is shock absorbent, shatterproof, and anti-scratch material.</li><br> <li><b>Mobile Protection: </b>Help to Protect the back side and hold the phone tightly.</li><br> <li><b>Complete Protection to your Mobile Phone:</b> Complete Protection with thickly four corner prevent getting impact easily.</li><br> <li><b>Installation:</b> Fashionury Printed cover is Easy to remove & install, anti finger print, anti scratch.Cover is removable, Simply has to unbox the cover and has to apply directly, No Tool is required.</li><br> <li><b>Quality Material:</b> Made of Special Material.</li><br> <li><b>Product Fitting:</b>Designed in proper way to give you best fitting experience.</b></li><br> </ul> <i>Important Notice to Buyer's: The picture's used are for Refrence purpose only. Real Product may vary slightly as per the Mobile Design & Model. Phone shown in the picture is not part of the offer. </i>      3003\n",
       "Be Different Now. You had already Purchased a Top and Best Gadget Available in India. Now its Time to Show it. Buy a Real Designer Case that is Super Protective and Enhances Your Style on which is a Hard Plastic thus Protecting your Device from Scratches and Damages and Dust or 90 Degree Falen.Inspired by todays culture stands for innovation,fashion novelty and quality. We understand theat fashionable design is as important as quality protection. That is why at Omnam we design each mobile case to bring the fun back into your life. Each product is designed and crafted in order to protect everyday gadget. The Durable stylish 3d Hardshell Back Case made of special plastic which protect the phone also from Breaking. These are totally Customize design for which we can say make in India and Pritned in India Specially for the buyer.                                                                                                                                                                                                                                                                                                                                                                           2745\n",
       "                                                                                                                                                                                                                                                                                                                                                                                                                                                                                                                                                                                                                                                                                                                                                                                                                                                                                                                                                                                                                                                                                                                                                                                                                                               ...  \n",
       "Condition: new: a brand-new, unused, unopened, undamaged item (including handmade items), brand: dr4u, country/region of manufacture: korea, republic of, skin type: all skin types                                                                                                                                                                                                                                                                                                                                                                                                                                                                                                                                                                                                                                                                                                                                                                                                                                                                                                                                                                                                                                                                1\n",
       "Whether you travel by plane, train or car, first-class skin and hair products will make all the difference on arrival. Our small, eminently portable travel kits contain all you need to smooth your passage, to assist you in surviving long journeys and endless office days. Completely budget friendly. Travel in Style with our New Bold & Stylish Travel Edits. Contents: Watercress Hair Cleanser (30 ml) Watercress Hair Conditioner Conditioner (30 ml) Lavender Lotion (30 ml) Lemongrass Body Wash (30 ml)                                                                                                                                                                                                                                                                                                                                                                                                                                                                                                                                                                                                                                                                                                                              1\n",
       "FIT ONLY FOR Lenovo S850 ! not For any others, Kindly CHECK YOUR MOBILE MODEL BEFORE ORDERING::NO REPLACEMENTS OR REFUNDS IF INCORRECTLY ORDERED FOR SOME WRONG PHONE::Access To All Buttons::Provides Better Grip::Protects from Scratch::Perfect Fit::Protects From Drops::Durable::Top Quality Guaranteed                                                                                                                                                                                                                                                                                                                                                                                                                                                                                                                                                                                                                                                                                                                                                                                                                                                                                                                                       1\n",
       "Description:<br />Carbon motor brushes are one of the most commonly replaced power tool components.<br />Worn brushes are often the cause of a poorly running motor.<br />Replacing brushes can fix an intermittent motor.<br />New brushes can restore electric braking of a motor.<br /><br />Specification:<br />Dimension: 10mmx25mmx50mm/0.39inchx1inchx1.97inch(L*W*H)<br />Wire Length: 12cm/4.72inch<br />Material: Carbon, Copper<br />Net Weight: 27g<br />Main Color: Black<br /><br />Package Content:<br />1 x Carbon Brush<br /><br />                                                                                                                                                                                                                                                                                                                                                                                                                                                                                                                                                                                                                                                                                               1\n",
       "Performance inspired by comfort. The polo shirt mixes the comfort of cotton with the exceptional wicking performance of polyester. Short sleeves, Rib knit collar                                                                                                                                                                                                                                                                                                                                                                                                                                                                                                                                                                                                                                                                                                                                                                                                                                                                                                                                                                                                                                                                                  1\n",
       "Name: DESCRIPTION, Length: 1278943, dtype: int64"
      ]
     },
     "execution_count": 23,
     "metadata": {},
     "output_type": "execute_result"
    }
   ],
   "source": [
    "df1.DESCRIPTION.value_counts()"
   ]
  },
  {
   "cell_type": "code",
   "execution_count": 24,
   "id": "833156c8",
   "metadata": {},
   "outputs": [
    {
     "data": {
      "text/plain": [
       "Missing                                                                                                                                                                                                                                                                                                                                                                                                                                                                                                                                                                                                                                                                                                                                                                                                                                                                                                                                                                                                                                                                                                                                                                                                                                                                                                                                                                                                                                                                                                                                                                                     166263\n",
       "[OUT OF THE BOX DESIGNS & VIBRANT PRINT : Our collection is made by keeping in mind the rich culture and trends of our Indian country. Designs & durability of the material is top notch with high definition print quality and drop down protection.,PREMIUM QUALITY : PikkMe cases are 3D printed high quality mobile back guard,printed with high-end Korean Ink Technology.Pouches are made with premium hard Polycarbonate (plastic) material with fully matte finish for upgraded style and durability.Also they are very light weight and slim / ultra thin that perfectly fits your phone and even don’t look bulky. Note : It’s PREMIUM PLASTIC mobile back pouch and NOT silicon or rubber or fabric or leather or any other material and accessories.,ACCURATE FITTING : This cover perfectly fits your phone.These cases are made with high precision moulds covering sides and corners properly with highly accurate cut- outs for all ports and buttons.,LIFETIME WARRANTY : PikkMe provides lifetime warranty for the print quality.In case any of your products gets fade away with time,we will provide you a new panel with no question asked.Please note that this warranty is only for colors, and not for rough usage, scratches or any kind of breakage.,BEST SUITED AS A GIFT : PikkMe cases are best suited as a gift item to your friends,family members(for both girls and boys) .They are highly accurate and so vibrant which makes them one of best gift for your loved ones.Product comes under the price range of Rs 300.]                                     4351\n",
       "[Printfidaa is \"Made in India' product using sublimation printing process, with print covering all 3 sides of cover.,Due to the nature of different monitors/tablets/smart phones, color variation may occur and the product may look slightly different in person being a handmade item.,Printfidaa Cases are waterproof, fade resistant, non-peeling, printed with vibrant eco-friendly inks, extremely slim fitting with access to all functions.,Printfidaa offers lifetime print/design guarantee.,Printfidaa this cover provides with maximum protection to your phone and maximum comfort for use.]                                                                                                                                                                                                                                                                                                                                                                                                                                                                                                                                                                                                                                                                                                                                                                                                                                                                                                                                                                                    3549\n",
       "[Cuttings-Precise Cut-outs for Charging, Mic, Speaker & Headphone Jack.,Reliable Protection-Protection from Minor Bumps and Scratches and Your Phone Remains Like Brand New.,Quality-HD Colours Never Fade Away with matt finish look,Installation-Easy Installation and Removal.,Final Product May Vary Slightly in Colour from The Display Image Due to The Differences Between Printing and Graphic Colouring Methods.]                                                                                                                                                                                                                                                                                                                                                                                                                                                                                                                                                                                                                                                                                                                                                                                                                                                                                                                                                                                                                                                                                                                                                                    3088\n",
       "[Protect Your Phone from Dust,Scratches and Full Protect for 90 Degree Fallen.,Premium Matte TPU Material to Give an Excellent Grip Better then Transparent Cover or Jelly Cover,3D Printed Light Weight and Multicolor and Perfect for Daily Use.,This Case is Fully Compitable with Charger or Earphone. Specially Designed and Printed in India.,It protects your Phone back and frame from Fingerprints, Scratches, Dusts, Collisions And Abrasion]                                                                                                                                                                                                                                                                                                                                                                                                                                                                                                                                                                                                                                                                                                                                                                                                                                                                                                                                                                                                                                                                                                                                       2731\n",
       "                                                                                                                                                                                                                                                                                                                                                                                                                                                                                                                                                                                                                                                                                                                                                                                                                                                                                                                                                                                                                                                                                                                                                                                                                                                                                                                                                                                                                                                                                                                                                                                             ...  \n",
       "[Handcrafted in wood excellent handle: :reinforced with firmly wound string and rubber sleeve: :perfect bat for any home or club play: :light weight at only 3 lbs: :material: high quality wood,Though quinergys bats are stroked and ready to use, we strongly recommend the players to stroke the bat for one week atleast for 15min/day. The edges and toe of the blade require particular attention using glancing blows off the face to harden and round these areas. Particular care and attention should be made not to hit the edges, toe or back of the bat directly as this will cause damage.,The knocking in should be performed with gradual increasing force, but never too hard to cause damage, if seam marks and indentations occur further knocking in is required.,Step by step guide to knocking in, apply raw linseed oil to the face, edges and back of the bat evenly, 2 to 3 teaspoons of oil is the correct amount. Whilst oiling take care not to oil the splice (where the handle fits into the blade),handle or labelled areas, also take great care not to over oil the bat as this will deaden the fibres of the timber and affect performance.,leave the bat horizontal and face up to dry for 24 hours, if you are planning to use the bat in its natural state, without an anti scuff sheet, then repeat steps 1 and 2 twice more. If you are planning to have a protective anti scuff sheet fitted then one initial coat of oil is sufficient. wipe off any excess oil and knock in your bat with a specialist bat mallet for approximately 4 hours.]         1\n",
       "[Safe, Green and Environment Protected . ( SHIPPED IN RANDOM COLOR ) ( 3 MONTHS SELLER WARRANTY IN CASE OF ANY DEFECT ),Works on Advanced LED Technology. Integrated Light, Electricity & Air flowing Mosquito Killing Technology .,No Chemical : No Fume : Odorless : No Side Effects : No Harmful Microwave Radiations : Soundless .,Ideal For Small Kids, Adults & Elderly People As It Kills Mosquitoes By Attracting Towards It .,Low Power Consumption, Energy Saving, Safe & Effective, Soft Light that Can also be Used as a Night Lamp .]                                                                                                                                                                                                                                                                                                                                                                                                                                                                                                                                                                                                                                                                                                                                                                                                                                                                                                                                                                                                                                               1\n",
       "[CUSTOM PRINTED FOR YOU: Differentiate yourself with this customised cover printed specially for your Samsung Galaxy J8,EDGE PROTECTION: This phone case for Samsung Galaxy J8 gives full coverage on the corners, for extra safety to your phone.,LIGHT WEIGHT: This printed case for Samsung Galaxy J8 is made with very light weight material. It protects your phone without adding extra weight.,ALL OVER PRINT: This printed designer case for Samsung Galaxy J8 has all round print coverage that gives an elegant look to your phone.,EASY ACCESS: This stylish phone case for Samsung Galaxy J8 is with design The Best Brother and has open cuts on buttons and ports areas.]                                                                                                                                                                                                                                                                                                                                                                                                                                                                                                                                                                                                                                                                                                                                                                                                                                                                                                          1\n",
       "[Women's & Girls 100 % Modal Scarf ( Size- 90 X 100 Cm),Color: Multicolor, Map: Orange,Size : 90 X 100 CM,Wash Care- Wash in Normal Water,Soft Material Pure Modal]                                                                                                                                                                                                                                                                                                                                                                                                                                                                                                                                                                                                                                                                                                                                                                                                                                                                                                                                                                                                                                                                                                                                                                                                                                                                                                                                                                                                                              1\n",
       "[350 MICRONS PACK OF 5 PCS,COMPLETE FACE PROTECTION: Torr-to Face Shield effectively isolates your face from saliva, spray, splatter, droplet, dust, oil and smoke while offering crystal clear vision for ease in doing tasks.,COMFORTABLE, ADJUSTABLE & REUSABLE: Equipped with 350 micron sheet with elastic band and sponge headband which is suitable for extended wear.,ANTI-FOG & ANTI-STATIC: It is coated with anti-fog and anti-static materials to ensure maximum visibility like it’s not even on your face. Good solution for keeping mist and droplets off your face.,FITS FOR ALL: Easy to adjust for a custom fit, thanks to its elastic headband that offers a secure fit on all head sizes. HUMANIZED PROTECTIVE COVER: Our offered Anti-Splash Facial Shield perfectly fits over prescription glasses for effortless working in environments such as Hospitals, Lab, Woodworking, etc]                                                                                                                                                                                                                                                                                                                                                                                                                                                                                                                                                                                                                                                                                        1\n",
       "Name: BULLET_POINTS, Length: 1668899, dtype: int64"
      ]
     },
     "execution_count": 24,
     "metadata": {},
     "output_type": "execute_result"
    }
   ],
   "source": [
    "df1.BULLET_POINTS.value_counts()"
   ]
  },
  {
   "cell_type": "code",
   "execution_count": 25,
   "id": "6451e2ef",
   "metadata": {},
   "outputs": [
    {
     "data": {
      "text/plain": [
       "Generic                      107303\n",
       "Missing                       56738\n",
       "Puma                          14131\n",
       "United Colors of Benetton     11821\n",
       "Max                           11180\n",
       "                              ...  \n",
       "SKYLIGHT                          1\n",
       "Handicrafts arts                  1\n",
       "KENNIS DUNG CAKE                  1\n",
       "MAN O KING                        1\n",
       "TORR-TO                           1\n",
       "Name: BRAND, Length: 258265, dtype: int64"
      ]
     },
     "execution_count": 25,
     "metadata": {},
     "output_type": "execute_result"
    }
   ],
   "source": [
    "df1.BRAND.value_counts()"
   ]
  },
  {
   "cell_type": "code",
   "execution_count": 26,
   "id": "32b9ead3",
   "metadata": {},
   "outputs": [],
   "source": [
    "strings = ['TITLE', 'DESCRIPTION', 'BULLET_POINTS', 'BRAND']"
   ]
  },
  {
   "cell_type": "code",
   "execution_count": 27,
   "id": "90613f30",
   "metadata": {},
   "outputs": [
    {
     "name": "stdout",
     "output_type": "stream",
     "text": [
      "TITLE  :  2751513 labels\n",
      "DESCRIPTION  :  1278943 labels\n",
      "BULLET_POINTS  :  1668899 labels\n",
      "BRAND  :  258265 labels\n"
     ]
    }
   ],
   "source": [
    "for feature in strings:\n",
    "    print(feature, \" : \", len(df1[feature].unique()), 'labels')"
   ]
  },
  {
   "cell_type": "code",
   "execution_count": 28,
   "id": "0780b399",
   "metadata": {},
   "outputs": [],
   "source": [
    "def code_frequency_encoding(df1, variable):\n",
    "    variable_map = df1[variable].value_counts().to_dict()\n",
    "    df1[variable] = df1[variable].map(variable_map)"
   ]
  },
  {
   "cell_type": "code",
   "execution_count": 29,
   "id": "729ca0e0",
   "metadata": {},
   "outputs": [],
   "source": [
    "for feature in strings:\n",
    "    code_frequency_encoding(df1, feature)"
   ]
  },
  {
   "cell_type": "code",
   "execution_count": 30,
   "id": "f3e16f04",
   "metadata": {},
   "outputs": [
    {
     "data": {
      "text/html": [
       "<div>\n",
       "<style scoped>\n",
       "    .dataframe tbody tr th:only-of-type {\n",
       "        vertical-align: middle;\n",
       "    }\n",
       "\n",
       "    .dataframe tbody tr th {\n",
       "        vertical-align: top;\n",
       "    }\n",
       "\n",
       "    .dataframe thead th {\n",
       "        text-align: right;\n",
       "    }\n",
       "</style>\n",
       "<table border=\"1\" class=\"dataframe\">\n",
       "  <thead>\n",
       "    <tr style=\"text-align: right;\">\n",
       "      <th></th>\n",
       "      <th>TITLE</th>\n",
       "      <th>DESCRIPTION</th>\n",
       "      <th>BULLET_POINTS</th>\n",
       "      <th>BRAND</th>\n",
       "      <th>BROWSE_NODE_ID</th>\n",
       "    </tr>\n",
       "  </thead>\n",
       "  <tbody>\n",
       "    <tr>\n",
       "      <th>0</th>\n",
       "      <td>1</td>\n",
       "      <td>1</td>\n",
       "      <td>1</td>\n",
       "      <td>3</td>\n",
       "      <td>0</td>\n",
       "    </tr>\n",
       "    <tr>\n",
       "      <th>1</th>\n",
       "      <td>1</td>\n",
       "      <td>1</td>\n",
       "      <td>1</td>\n",
       "      <td>1</td>\n",
       "      <td>1</td>\n",
       "    </tr>\n",
       "    <tr>\n",
       "      <th>2</th>\n",
       "      <td>1</td>\n",
       "      <td>723664</td>\n",
       "      <td>1</td>\n",
       "      <td>57</td>\n",
       "      <td>2</td>\n",
       "    </tr>\n",
       "    <tr>\n",
       "      <th>3</th>\n",
       "      <td>1</td>\n",
       "      <td>723664</td>\n",
       "      <td>1</td>\n",
       "      <td>52</td>\n",
       "      <td>3</td>\n",
       "    </tr>\n",
       "    <tr>\n",
       "      <th>4</th>\n",
       "      <td>1</td>\n",
       "      <td>723664</td>\n",
       "      <td>166263</td>\n",
       "      <td>56738</td>\n",
       "      <td>4</td>\n",
       "    </tr>\n",
       "    <tr>\n",
       "      <th>5</th>\n",
       "      <td>1</td>\n",
       "      <td>1</td>\n",
       "      <td>1</td>\n",
       "      <td>4</td>\n",
       "      <td>5</td>\n",
       "    </tr>\n",
       "    <tr>\n",
       "      <th>6</th>\n",
       "      <td>1</td>\n",
       "      <td>1</td>\n",
       "      <td>1</td>\n",
       "      <td>4</td>\n",
       "      <td>6</td>\n",
       "    </tr>\n",
       "    <tr>\n",
       "      <th>7</th>\n",
       "      <td>1</td>\n",
       "      <td>1</td>\n",
       "      <td>9</td>\n",
       "      <td>7</td>\n",
       "      <td>7</td>\n",
       "    </tr>\n",
       "    <tr>\n",
       "      <th>8</th>\n",
       "      <td>1</td>\n",
       "      <td>1</td>\n",
       "      <td>2</td>\n",
       "      <td>7</td>\n",
       "      <td>7</td>\n",
       "    </tr>\n",
       "    <tr>\n",
       "      <th>9</th>\n",
       "      <td>1</td>\n",
       "      <td>1</td>\n",
       "      <td>166263</td>\n",
       "      <td>22</td>\n",
       "      <td>9</td>\n",
       "    </tr>\n",
       "    <tr>\n",
       "      <th>10</th>\n",
       "      <td>1</td>\n",
       "      <td>723664</td>\n",
       "      <td>166263</td>\n",
       "      <td>56738</td>\n",
       "      <td>10</td>\n",
       "    </tr>\n",
       "    <tr>\n",
       "      <th>11</th>\n",
       "      <td>1</td>\n",
       "      <td>1</td>\n",
       "      <td>1</td>\n",
       "      <td>171</td>\n",
       "      <td>11</td>\n",
       "    </tr>\n",
       "    <tr>\n",
       "      <th>12</th>\n",
       "      <td>1</td>\n",
       "      <td>723664</td>\n",
       "      <td>1</td>\n",
       "      <td>312</td>\n",
       "      <td>12</td>\n",
       "    </tr>\n",
       "    <tr>\n",
       "      <th>13</th>\n",
       "      <td>1</td>\n",
       "      <td>723664</td>\n",
       "      <td>1</td>\n",
       "      <td>207</td>\n",
       "      <td>13</td>\n",
       "    </tr>\n",
       "    <tr>\n",
       "      <th>14</th>\n",
       "      <td>1</td>\n",
       "      <td>1</td>\n",
       "      <td>2</td>\n",
       "      <td>4</td>\n",
       "      <td>14</td>\n",
       "    </tr>\n",
       "    <tr>\n",
       "      <th>15</th>\n",
       "      <td>1</td>\n",
       "      <td>723664</td>\n",
       "      <td>1</td>\n",
       "      <td>56738</td>\n",
       "      <td>15</td>\n",
       "    </tr>\n",
       "    <tr>\n",
       "      <th>16</th>\n",
       "      <td>1</td>\n",
       "      <td>1</td>\n",
       "      <td>1</td>\n",
       "      <td>223</td>\n",
       "      <td>16</td>\n",
       "    </tr>\n",
       "    <tr>\n",
       "      <th>17</th>\n",
       "      <td>1</td>\n",
       "      <td>723664</td>\n",
       "      <td>1</td>\n",
       "      <td>869</td>\n",
       "      <td>17</td>\n",
       "    </tr>\n",
       "    <tr>\n",
       "      <th>18</th>\n",
       "      <td>1</td>\n",
       "      <td>1</td>\n",
       "      <td>1</td>\n",
       "      <td>39</td>\n",
       "      <td>18</td>\n",
       "    </tr>\n",
       "    <tr>\n",
       "      <th>19</th>\n",
       "      <td>1</td>\n",
       "      <td>2</td>\n",
       "      <td>1</td>\n",
       "      <td>340</td>\n",
       "      <td>19</td>\n",
       "    </tr>\n",
       "    <tr>\n",
       "      <th>20</th>\n",
       "      <td>1</td>\n",
       "      <td>1</td>\n",
       "      <td>1</td>\n",
       "      <td>2</td>\n",
       "      <td>20</td>\n",
       "    </tr>\n",
       "    <tr>\n",
       "      <th>21</th>\n",
       "      <td>1</td>\n",
       "      <td>1</td>\n",
       "      <td>1</td>\n",
       "      <td>5</td>\n",
       "      <td>21</td>\n",
       "    </tr>\n",
       "    <tr>\n",
       "      <th>22</th>\n",
       "      <td>1</td>\n",
       "      <td>723664</td>\n",
       "      <td>1</td>\n",
       "      <td>496</td>\n",
       "      <td>22</td>\n",
       "    </tr>\n",
       "    <tr>\n",
       "      <th>23</th>\n",
       "      <td>1</td>\n",
       "      <td>1</td>\n",
       "      <td>1</td>\n",
       "      <td>77</td>\n",
       "      <td>23</td>\n",
       "    </tr>\n",
       "    <tr>\n",
       "      <th>24</th>\n",
       "      <td>1</td>\n",
       "      <td>1</td>\n",
       "      <td>1</td>\n",
       "      <td>82</td>\n",
       "      <td>24</td>\n",
       "    </tr>\n",
       "    <tr>\n",
       "      <th>25</th>\n",
       "      <td>1</td>\n",
       "      <td>723664</td>\n",
       "      <td>1</td>\n",
       "      <td>666</td>\n",
       "      <td>25</td>\n",
       "    </tr>\n",
       "    <tr>\n",
       "      <th>26</th>\n",
       "      <td>1</td>\n",
       "      <td>1</td>\n",
       "      <td>1</td>\n",
       "      <td>41</td>\n",
       "      <td>26</td>\n",
       "    </tr>\n",
       "    <tr>\n",
       "      <th>27</th>\n",
       "      <td>1</td>\n",
       "      <td>1</td>\n",
       "      <td>166263</td>\n",
       "      <td>56738</td>\n",
       "      <td>27</td>\n",
       "    </tr>\n",
       "    <tr>\n",
       "      <th>28</th>\n",
       "      <td>1</td>\n",
       "      <td>1</td>\n",
       "      <td>1</td>\n",
       "      <td>38</td>\n",
       "      <td>28</td>\n",
       "    </tr>\n",
       "    <tr>\n",
       "      <th>29</th>\n",
       "      <td>1</td>\n",
       "      <td>1</td>\n",
       "      <td>1</td>\n",
       "      <td>38</td>\n",
       "      <td>28</td>\n",
       "    </tr>\n",
       "  </tbody>\n",
       "</table>\n",
       "</div>"
      ],
      "text/plain": [
       "    TITLE  DESCRIPTION  BULLET_POINTS  BRAND  BROWSE_NODE_ID\n",
       "0       1            1              1      3               0\n",
       "1       1            1              1      1               1\n",
       "2       1       723664              1     57               2\n",
       "3       1       723664              1     52               3\n",
       "4       1       723664         166263  56738               4\n",
       "5       1            1              1      4               5\n",
       "6       1            1              1      4               6\n",
       "7       1            1              9      7               7\n",
       "8       1            1              2      7               7\n",
       "9       1            1         166263     22               9\n",
       "10      1       723664         166263  56738              10\n",
       "11      1            1              1    171              11\n",
       "12      1       723664              1    312              12\n",
       "13      1       723664              1    207              13\n",
       "14      1            1              2      4              14\n",
       "15      1       723664              1  56738              15\n",
       "16      1            1              1    223              16\n",
       "17      1       723664              1    869              17\n",
       "18      1            1              1     39              18\n",
       "19      1            2              1    340              19\n",
       "20      1            1              1      2              20\n",
       "21      1            1              1      5              21\n",
       "22      1       723664              1    496              22\n",
       "23      1            1              1     77              23\n",
       "24      1            1              1     82              24\n",
       "25      1       723664              1    666              25\n",
       "26      1            1              1     41              26\n",
       "27      1            1         166263  56738              27\n",
       "28      1            1              1     38              28\n",
       "29      1            1              1     38              28"
      ]
     },
     "execution_count": 30,
     "metadata": {},
     "output_type": "execute_result"
    }
   ],
   "source": [
    "df1.head(30)"
   ]
  },
  {
   "cell_type": "code",
   "execution_count": 31,
   "id": "f13297b2",
   "metadata": {},
   "outputs": [
    {
     "name": "stdout",
     "output_type": "stream",
     "text": [
      "<class 'pandas.core.frame.DataFrame'>\n",
      "RangeIndex: 2903024 entries, 0 to 2903023\n",
      "Data columns (total 5 columns):\n",
      " #   Column          Dtype\n",
      "---  ------          -----\n",
      " 0   TITLE           int64\n",
      " 1   DESCRIPTION     int64\n",
      " 2   BULLET_POINTS   int64\n",
      " 3   BRAND           int64\n",
      " 4   BROWSE_NODE_ID  int64\n",
      "dtypes: int64(5)\n",
      "memory usage: 110.7 MB\n"
     ]
    }
   ],
   "source": [
    "df1.info()"
   ]
  },
  {
   "cell_type": "code",
   "execution_count": 32,
   "id": "a0d7343c",
   "metadata": {},
   "outputs": [
    {
     "data": {
      "text/plain": [
       "Index(['TITLE', 'DESCRIPTION', 'BULLET_POINTS', 'BRAND', 'BROWSE_NODE_ID'], dtype='object')"
      ]
     },
     "execution_count": 32,
     "metadata": {},
     "output_type": "execute_result"
    }
   ],
   "source": [
    "df1.columns"
   ]
  },
  {
   "cell_type": "code",
   "execution_count": 33,
   "id": "886c6d7e",
   "metadata": {},
   "outputs": [
    {
     "name": "stdout",
     "output_type": "stream",
     "text": [
      "<class 'pandas.core.frame.DataFrame'>\n",
      "RangeIndex: 2903024 entries, 0 to 2903023\n",
      "Data columns (total 5 columns):\n",
      " #   Column          Dtype\n",
      "---  ------          -----\n",
      " 0   TITLE           int64\n",
      " 1   DESCRIPTION     int64\n",
      " 2   BULLET_POINTS   int64\n",
      " 3   BRAND           int64\n",
      " 4   BROWSE_NODE_ID  int64\n",
      "dtypes: int64(5)\n",
      "memory usage: 110.7 MB\n"
     ]
    }
   ],
   "source": [
    "df1.info()"
   ]
  },
  {
   "cell_type": "code",
   "execution_count": 34,
   "id": "b8b5d35a",
   "metadata": {},
   "outputs": [],
   "source": [
    "df1=df1.astype({'TITLE':'int8'})\n",
    "df1=df1.astype({'DESCRIPTION':'int8'})\n",
    "df1=df1.astype({'BULLET_POINTS':'int8'})\n",
    "df1=df1.astype({'BRAND':'int8'})"
   ]
  },
  {
   "cell_type": "code",
   "execution_count": 35,
   "id": "4611e402",
   "metadata": {},
   "outputs": [
    {
     "name": "stdout",
     "output_type": "stream",
     "text": [
      "<class 'pandas.core.frame.DataFrame'>\n",
      "RangeIndex: 2903024 entries, 0 to 2903023\n",
      "Data columns (total 5 columns):\n",
      " #   Column          Dtype\n",
      "---  ------          -----\n",
      " 0   TITLE           int8 \n",
      " 1   DESCRIPTION     int8 \n",
      " 2   BULLET_POINTS   int8 \n",
      " 3   BRAND           int8 \n",
      " 4   BROWSE_NODE_ID  int64\n",
      "dtypes: int64(1), int8(4)\n",
      "memory usage: 33.2 MB\n"
     ]
    }
   ],
   "source": [
    "df1.info()"
   ]
  },
  {
   "cell_type": "code",
   "execution_count": 68,
   "id": "c8457a13",
   "metadata": {},
   "outputs": [
    {
     "name": "stderr",
     "output_type": "stream",
     "text": [
      "c:\\users\\akhil\\appdata\\local\\programs\\python\\python39\\lib\\site-packages\\seaborn\\distributions.py:2557: FutureWarning: `distplot` is a deprecated function and will be removed in a future version. Please adapt your code to use either `displot` (a figure-level function with similar flexibility) or `histplot` (an axes-level function for histograms).\n",
      "  warnings.warn(msg, FutureWarning)\n",
      "c:\\users\\akhil\\appdata\\local\\programs\\python\\python39\\lib\\site-packages\\seaborn\\distributions.py:2557: FutureWarning: `distplot` is a deprecated function and will be removed in a future version. Please adapt your code to use either `displot` (a figure-level function with similar flexibility) or `histplot` (an axes-level function for histograms).\n",
      "  warnings.warn(msg, FutureWarning)\n",
      "c:\\users\\akhil\\appdata\\local\\programs\\python\\python39\\lib\\site-packages\\seaborn\\distributions.py:2557: FutureWarning: `distplot` is a deprecated function and will be removed in a future version. Please adapt your code to use either `displot` (a figure-level function with similar flexibility) or `histplot` (an axes-level function for histograms).\n",
      "  warnings.warn(msg, FutureWarning)\n",
      "c:\\users\\akhil\\appdata\\local\\programs\\python\\python39\\lib\\site-packages\\seaborn\\distributions.py:2557: FutureWarning: `distplot` is a deprecated function and will be removed in a future version. Please adapt your code to use either `displot` (a figure-level function with similar flexibility) or `histplot` (an axes-level function for histograms).\n",
      "  warnings.warn(msg, FutureWarning)\n",
      "c:\\users\\akhil\\appdata\\local\\programs\\python\\python39\\lib\\site-packages\\seaborn\\distributions.py:2557: FutureWarning: `distplot` is a deprecated function and will be removed in a future version. Please adapt your code to use either `displot` (a figure-level function with similar flexibility) or `histplot` (an axes-level function for histograms).\n",
      "  warnings.warn(msg, FutureWarning)\n"
     ]
    },
    {
     "data": {
      "image/png": "[encoded data removed]",
      "text/plain": [
       "<Figure size 1440x2160 with 5 Axes>"
      ]
     },
     "metadata": {},
     "output_type": "display_data"
    }
   ],
   "source": [
    "plt.figure(figsize=(20,30), facecolor='yellow')\n",
    "plotnumber=1\n",
    "\n",
    "for column in df1:\n",
    "    if plotnumber<=15:\n",
    "        ax = plt.subplot(5,3,plotnumber)\n",
    "        sns.distplot(df1[column])\n",
    "        plt.xlabel(column, fontsize=20)\n",
    "        \n",
    "    plotnumber+=1\n",
    "plt.tight_layout()"
   ]
  },
  {
   "cell_type": "code",
   "execution_count": 69,
   "id": "f7b6fad5",
   "metadata": {},
   "outputs": [
    {
     "data": {
      "image/png": "[encoded data removed]",
      "text/plain": [
       "<Figure size 144x576 with 1 Axes>"
      ]
     },
     "metadata": {
      "needs_background": "light"
     },
     "output_type": "display_data"
    }
   ],
   "source": [
    "corr = df1.corr()['BROWSE_NODE_ID'].sort_values(ascending=False).to_frame()\n",
    "plt.figure(figsize=(2,8))\n",
    "sns.heatmap(corr, cmap='Blues', cbar=False, annot=True)\n",
    "plt.show()"
   ]
  },
  {
   "cell_type": "code",
   "execution_count": 36,
   "id": "1f0ec690",
   "metadata": {},
   "outputs": [
    {
     "data": {
      "text/html": [
       "<div>\n",
       "<style scoped>\n",
       "    .dataframe tbody tr th:only-of-type {\n",
       "        vertical-align: middle;\n",
       "    }\n",
       "\n",
       "    .dataframe tbody tr th {\n",
       "        vertical-align: top;\n",
       "    }\n",
       "\n",
       "    .dataframe thead th {\n",
       "        text-align: right;\n",
       "    }\n",
       "</style>\n",
       "<table border=\"1\" class=\"dataframe\">\n",
       "  <thead>\n",
       "    <tr style=\"text-align: right;\">\n",
       "      <th></th>\n",
       "      <th>TITLE</th>\n",
       "      <th>DESCRIPTION</th>\n",
       "      <th>BULLET_POINTS</th>\n",
       "      <th>BRAND</th>\n",
       "    </tr>\n",
       "  </thead>\n",
       "  <tbody>\n",
       "    <tr>\n",
       "      <th>0</th>\n",
       "      <td>1</td>\n",
       "      <td>1</td>\n",
       "      <td>1</td>\n",
       "      <td>3</td>\n",
       "    </tr>\n",
       "    <tr>\n",
       "      <th>1</th>\n",
       "      <td>1</td>\n",
       "      <td>1</td>\n",
       "      <td>1</td>\n",
       "      <td>1</td>\n",
       "    </tr>\n",
       "    <tr>\n",
       "      <th>2</th>\n",
       "      <td>1</td>\n",
       "      <td>-48</td>\n",
       "      <td>1</td>\n",
       "      <td>57</td>\n",
       "    </tr>\n",
       "    <tr>\n",
       "      <th>3</th>\n",
       "      <td>1</td>\n",
       "      <td>-48</td>\n",
       "      <td>1</td>\n",
       "      <td>52</td>\n",
       "    </tr>\n",
       "    <tr>\n",
       "      <th>4</th>\n",
       "      <td>1</td>\n",
       "      <td>-48</td>\n",
       "      <td>119</td>\n",
       "      <td>-94</td>\n",
       "    </tr>\n",
       "  </tbody>\n",
       "</table>\n",
       "</div>"
      ],
      "text/plain": [
       "   TITLE  DESCRIPTION  BULLET_POINTS  BRAND\n",
       "0      1            1              1      3\n",
       "1      1            1              1      1\n",
       "2      1          -48              1     57\n",
       "3      1          -48              1     52\n",
       "4      1          -48            119    -94"
      ]
     },
     "execution_count": 36,
     "metadata": {},
     "output_type": "execute_result"
    }
   ],
   "source": [
    "X=df1[strings]\n",
    "X.head()"
   ]
  },
  {
   "cell_type": "code",
   "execution_count": 37,
   "id": "1538b656",
   "metadata": {},
   "outputs": [
    {
     "data": {
      "text/html": [
       "<div>\n",
       "<style scoped>\n",
       "    .dataframe tbody tr th:only-of-type {\n",
       "        vertical-align: middle;\n",
       "    }\n",
       "\n",
       "    .dataframe tbody tr th {\n",
       "        vertical-align: top;\n",
       "    }\n",
       "\n",
       "    .dataframe thead th {\n",
       "        text-align: right;\n",
       "    }\n",
       "</style>\n",
       "<table border=\"1\" class=\"dataframe\">\n",
       "  <thead>\n",
       "    <tr style=\"text-align: right;\">\n",
       "      <th></th>\n",
       "      <th>BROWSE_NODE_ID</th>\n",
       "    </tr>\n",
       "  </thead>\n",
       "  <tbody>\n",
       "    <tr>\n",
       "      <th>0</th>\n",
       "      <td>0</td>\n",
       "    </tr>\n",
       "    <tr>\n",
       "      <th>1</th>\n",
       "      <td>1</td>\n",
       "    </tr>\n",
       "    <tr>\n",
       "      <th>2</th>\n",
       "      <td>2</td>\n",
       "    </tr>\n",
       "    <tr>\n",
       "      <th>3</th>\n",
       "      <td>3</td>\n",
       "    </tr>\n",
       "    <tr>\n",
       "      <th>4</th>\n",
       "      <td>4</td>\n",
       "    </tr>\n",
       "  </tbody>\n",
       "</table>\n",
       "</div>"
      ],
      "text/plain": [
       "   BROWSE_NODE_ID\n",
       "0               0\n",
       "1               1\n",
       "2               2\n",
       "3               3\n",
       "4               4"
      ]
     },
     "execution_count": 37,
     "metadata": {},
     "output_type": "execute_result"
    }
   ],
   "source": [
    "Y=df1[[\"BROWSE_NODE_ID\"]]\n",
    "Y.head()"
   ]
  },
  {
   "cell_type": "code",
   "execution_count": 70,
   "id": "33979dd2",
   "metadata": {},
   "outputs": [
    {
     "name": "stderr",
     "output_type": "stream",
     "text": [
      "C:\\Users\\akhil\\AppData\\Local\\Temp/ipykernel_4644/2623009181.py:3: DataConversionWarning: A column-vector y was passed when a 1d array was expected. Please change the shape of y to (n_samples,), for example using ravel().\n",
      "  ETR.fit(X,Y)\n"
     ]
    },
    {
     "data": {
      "text/plain": [
       "ExtraTreesRegressor()"
      ]
     },
     "execution_count": 70,
     "metadata": {},
     "output_type": "execute_result"
    }
   ],
   "source": [
    "from sklearn.ensemble import ExtraTreesRegressor\n",
    "ETR = ExtraTreesRegressor()\n",
    "ETR.fit(X,Y)"
   ]
  },
  {
   "cell_type": "code",
   "execution_count": 71,
   "id": "7b662b50",
   "metadata": {},
   "outputs": [
    {
     "name": "stdout",
     "output_type": "stream",
     "text": [
      "[0.05021503 0.22324931 0.30491039 0.42162528]\n"
     ]
    }
   ],
   "source": [
    "print(ETR.feature_importances_)"
   ]
  },
  {
   "cell_type": "code",
   "execution_count": 72,
   "id": "a10d5664",
   "metadata": {},
   "outputs": [
    {
     "data": {
      "image/png": "[encoded data removed]",
      "text/plain": [
       "<Figure size 720x432 with 1 Axes>"
      ]
     },
     "metadata": {
      "needs_background": "light"
     },
     "output_type": "display_data"
    }
   ],
   "source": [
    "plt.figure(figsize = (10,6))\n",
    "feat_importances = pd.Series(ETR.feature_importances_, index=X.columns)\n",
    "feat_importances.nlargest(20).plot(kind='bar')\n",
    "plt.show()"
   ]
  },
  {
   "cell_type": "code",
   "execution_count": 73,
   "id": "e5b753f0",
   "metadata": {},
   "outputs": [
    {
     "data": {
      "text/plain": [
       "<AxesSubplot:>"
      ]
     },
     "execution_count": 73,
     "metadata": {},
     "output_type": "execute_result"
    },
    {
     "data": {
      "image/png": "[encoded data removed]",
      "text/plain": [
       "<Figure size 720x720 with 2 Axes>"
      ]
     },
     "metadata": {
      "needs_background": "light"
     },
     "output_type": "display_data"
    }
   ],
   "source": [
    "corr=df1.iloc[:,:-1].corr()\n",
    "prop_features=corr.index\n",
    "plt.figure(figsize=(10,10))\n",
    "sns.heatmap(df1[prop_features].corr(),annot=True)"
   ]
  },
  {
   "cell_type": "code",
   "execution_count": 39,
   "id": "05dc2bba",
   "metadata": {},
   "outputs": [
    {
     "data": {
      "text/html": [
       "<div>\n",
       "<style scoped>\n",
       "    .dataframe tbody tr th:only-of-type {\n",
       "        vertical-align: middle;\n",
       "    }\n",
       "\n",
       "    .dataframe tbody tr th {\n",
       "        vertical-align: top;\n",
       "    }\n",
       "\n",
       "    .dataframe thead th {\n",
       "        text-align: right;\n",
       "    }\n",
       "</style>\n",
       "<table border=\"1\" class=\"dataframe\">\n",
       "  <thead>\n",
       "    <tr style=\"text-align: right;\">\n",
       "      <th></th>\n",
       "      <th>TITLE</th>\n",
       "      <th>DESCRIPTION</th>\n",
       "      <th>BULLET_POINTS</th>\n",
       "      <th>BRAND</th>\n",
       "    </tr>\n",
       "  </thead>\n",
       "  <tbody>\n",
       "    <tr>\n",
       "      <th>0</th>\n",
       "      <td>1</td>\n",
       "      <td>1</td>\n",
       "      <td>1</td>\n",
       "      <td>3</td>\n",
       "    </tr>\n",
       "    <tr>\n",
       "      <th>1</th>\n",
       "      <td>1</td>\n",
       "      <td>1</td>\n",
       "      <td>1</td>\n",
       "      <td>1</td>\n",
       "    </tr>\n",
       "    <tr>\n",
       "      <th>2</th>\n",
       "      <td>1</td>\n",
       "      <td>-48</td>\n",
       "      <td>1</td>\n",
       "      <td>57</td>\n",
       "    </tr>\n",
       "    <tr>\n",
       "      <th>3</th>\n",
       "      <td>1</td>\n",
       "      <td>-48</td>\n",
       "      <td>1</td>\n",
       "      <td>52</td>\n",
       "    </tr>\n",
       "    <tr>\n",
       "      <th>4</th>\n",
       "      <td>1</td>\n",
       "      <td>-48</td>\n",
       "      <td>119</td>\n",
       "      <td>-94</td>\n",
       "    </tr>\n",
       "  </tbody>\n",
       "</table>\n",
       "</div>"
      ],
      "text/plain": [
       "   TITLE  DESCRIPTION  BULLET_POINTS  BRAND\n",
       "0      1            1              1      3\n",
       "1      1            1              1      1\n",
       "2      1          -48              1     57\n",
       "3      1          -48              1     52\n",
       "4      1          -48            119    -94"
      ]
     },
     "execution_count": 39,
     "metadata": {},
     "output_type": "execute_result"
    }
   ],
   "source": [
    "X.head()"
   ]
  },
  {
   "cell_type": "code",
   "execution_count": 40,
   "id": "7b43b4f1",
   "metadata": {},
   "outputs": [
    {
     "data": {
      "text/html": [
       "<div>\n",
       "<style scoped>\n",
       "    .dataframe tbody tr th:only-of-type {\n",
       "        vertical-align: middle;\n",
       "    }\n",
       "\n",
       "    .dataframe tbody tr th {\n",
       "        vertical-align: top;\n",
       "    }\n",
       "\n",
       "    .dataframe thead th {\n",
       "        text-align: right;\n",
       "    }\n",
       "</style>\n",
       "<table border=\"1\" class=\"dataframe\">\n",
       "  <thead>\n",
       "    <tr style=\"text-align: right;\">\n",
       "      <th></th>\n",
       "      <th>BROWSE_NODE_ID</th>\n",
       "    </tr>\n",
       "  </thead>\n",
       "  <tbody>\n",
       "    <tr>\n",
       "      <th>0</th>\n",
       "      <td>0</td>\n",
       "    </tr>\n",
       "    <tr>\n",
       "      <th>1</th>\n",
       "      <td>1</td>\n",
       "    </tr>\n",
       "    <tr>\n",
       "      <th>2</th>\n",
       "      <td>2</td>\n",
       "    </tr>\n",
       "    <tr>\n",
       "      <th>3</th>\n",
       "      <td>3</td>\n",
       "    </tr>\n",
       "    <tr>\n",
       "      <th>4</th>\n",
       "      <td>4</td>\n",
       "    </tr>\n",
       "  </tbody>\n",
       "</table>\n",
       "</div>"
      ],
      "text/plain": [
       "   BROWSE_NODE_ID\n",
       "0               0\n",
       "1               1\n",
       "2               2\n",
       "3               3\n",
       "4               4"
      ]
     },
     "execution_count": 40,
     "metadata": {},
     "output_type": "execute_result"
    }
   ],
   "source": [
    "Y.head()"
   ]
  },
  {
   "cell_type": "code",
   "execution_count": 41,
   "id": "599d541f",
   "metadata": {},
   "outputs": [],
   "source": [
    "from sklearn.model_selection import train_test_split\n",
    "X_train, X_test, Y_train, Y_test = train_test_split(X,Y,train_size=0.9999, test_size = 0.0001, random_state = 0)"
   ]
  },
  {
   "cell_type": "markdown",
   "id": "851cea36",
   "metadata": {},
   "source": [
    "# Decision Tree"
   ]
  },
  {
   "cell_type": "markdown",
   "id": "2cc2b4db",
   "metadata": {},
   "source": [
    "# checking max_depth_options"
   ]
  },
  {
   "cell_type": "code",
   "execution_count": 49,
   "id": "ea04384b",
   "metadata": {},
   "outputs": [
    {
     "data": {
      "text/plain": [
       "<AxesSubplot:>"
      ]
     },
     "execution_count": 49,
     "metadata": {},
     "output_type": "execute_result"
    },
    {
     "data": {
      "image/png": "[encoded data removed]",
      "text/plain": [
       "<Figure size 576x288 with 1 Axes>"
      ]
     },
     "metadata": {
      "needs_background": "light"
     },
     "output_type": "display_data"
    }
   ],
   "source": [
    "results = []\n",
    "max_depth_options = [2,4,6,8,10,12,14,16,18,20]\n",
    "for trees in max_depth_options:\n",
    "    model = DecisionTreeClassifier(max_depth=trees, random_state=101)\n",
    "    model.fit(X_train, Y_train)\n",
    "    y_pred = model.predict(X_test)\n",
    "    accuracy = metrics.accuracy_score(Y_test, y_pred)\n",
    "    \n",
    "    #accuracy = np.mean(Y_test==Y_pred)\n",
    "    results.append(accuracy)\n",
    "\n",
    "plt.figure(figsize=(8,4))\n",
    "pd.Series(results, max_depth_options).plot(color=\"darkred\",marker=\"o\")"
   ]
  },
  {
   "cell_type": "markdown",
   "id": "e8366c0a",
   "metadata": {},
   "source": [
    "## checking max_feature_option"
   ]
  },
  {
   "cell_type": "code",
   "execution_count": 51,
   "id": "44054802",
   "metadata": {},
   "outputs": [
    {
     "data": {
      "text/plain": [
       "<AxesSubplot:>"
      ]
     },
     "execution_count": 51,
     "metadata": {},
     "output_type": "execute_result"
    },
    {
     "data": {
      "image/png": "[encoded data removed]",
      "text/plain": [
       "<Figure size 576x288 with 1 Axes>"
      ]
     },
     "metadata": {
      "needs_background": "light"
     },
     "output_type": "display_data"
    }
   ],
   "source": [
    "results = []\n",
    "max_features_options = ['auto',None,'sqrt',0.95,0.75,0.5,0.25,0.10]\n",
    "for trees in max_features_options:\n",
    "    model = DecisionTreeClassifier(max_depth=20, random_state=101, max_features = trees)\n",
    "    model.fit(X_train, Y_train)\n",
    "    y_pred = model.predict(X_test)\n",
    "    accuracy = metrics.accuracy_score(Y_test, y_pred)\n",
    "    \n",
    "    results.append(accuracy)\n",
    "\n",
    "plt.figure(figsize=(8,4))\n",
    "pd.Series(results, max_features_options).plot(kind=\"bar\",color=\"darkred\",ylim=(0.7,0.9))\n"
   ]
  },
  {
   "cell_type": "markdown",
   "id": "7aaec23a",
   "metadata": {},
   "source": [
    "## checking min_sample_leaf"
   ]
  },
  {
   "cell_type": "code",
   "execution_count": 52,
   "id": "aca6d0f6",
   "metadata": {},
   "outputs": [
    {
     "data": {
      "text/plain": [
       "<AxesSubplot:>"
      ]
     },
     "execution_count": 52,
     "metadata": {},
     "output_type": "execute_result"
    },
    {
     "data": {
      "image/png": "[encoded data removed]",
      "text/plain": [
       "<Figure size 576x288 with 1 Axes>"
      ]
     },
     "metadata": {
      "needs_background": "light"
     },
     "output_type": "display_data"
    }
   ],
   "source": [
    "results = []\n",
    "min_samples_leaf_options = [5,10,15,20,25,30,35,40,45,50]\n",
    "for trees in min_samples_leaf_options:\n",
    "    model = DecisionTreeClassifier(max_depth=20, random_state=101, max_features = None, min_samples_leaf = trees)\n",
    "    model.fit(X_train, Y_train)\n",
    "    y_pred = model.predict(X_test)\n",
    "    accuracy = metrics.accuracy_score(Y_test, y_pred)\n",
    "    results.append(accuracy)\n",
    "\n",
    "plt.figure(figsize=(8,4))\n",
    "pd.Series(results, min_samples_leaf_options).plot(color=\"darkred\",marker=\"o\")\n"
   ]
  },
  {
   "cell_type": "markdown",
   "id": "a8d6615e",
   "metadata": {},
   "source": [
    "# model training"
   ]
  },
  {
   "cell_type": "code",
   "execution_count": 53,
   "id": "3a727dc2",
   "metadata": {},
   "outputs": [],
   "source": [
    "dtree = DecisionTreeClassifier(max_depth=20, random_state=101, max_features = None, min_samples_leaf = 20)\n",
    "dtree.fit(X_train, Y_train)\n",
    "y_pred=dtree.predict(X_test)"
   ]
  },
  {
   "cell_type": "code",
   "execution_count": 54,
   "id": "386e9113",
   "metadata": {},
   "outputs": [
    {
     "name": "stdout",
     "output_type": "stream",
     "text": [
      "Decision tree classifier model accuracy is : 0.1718213058419244\n"
     ]
    }
   ],
   "source": [
    "\n",
    "accuracy = metrics.accuracy_score(Y_test, y_pred)\n",
    "print(\"Decision tree classifier model accuracy is :\",accuracy)"
   ]
  },
  {
   "cell_type": "code",
   "execution_count": 57,
   "id": "c669416a",
   "metadata": {},
   "outputs": [
    {
     "name": "stdout",
     "output_type": "stream",
     "text": [
      "[[0 0 0 ... 0 0 0]\n",
      " [0 3 0 ... 0 0 0]\n",
      " [0 0 3 ... 0 0 0]\n",
      " ...\n",
      " [0 0 0 ... 0 0 0]\n",
      " [0 0 0 ... 0 0 0]\n",
      " [0 0 0 ... 0 0 0]]\n",
      "              precision    recall  f1-score   support\n",
      "\n",
      "           0       0.00      0.00      0.00         1\n",
      "           4       0.23      0.43      0.30         7\n",
      "           5       0.13      0.38      0.19         8\n",
      "          11       0.50      0.40      0.44         5\n",
      "          19       0.00      0.00      0.00         1\n",
      "          40       0.00      0.00      0.00         1\n",
      "          45       0.00      0.00      0.00         1\n",
      "          55       0.00      0.00      0.00         1\n",
      "          74       0.00      0.00      0.00         2\n",
      "          81       0.00      0.00      0.00         3\n",
      "          82       0.00      0.00      0.00         1\n",
      "          86       0.00      0.00      0.00         1\n",
      "          89       0.00      0.00      0.00         1\n",
      "          92       0.00      0.00      0.00         0\n",
      "         110       0.00      0.00      0.00         1\n",
      "         112       1.00      1.00      1.00         1\n",
      "         113       0.00      0.00      0.00         1\n",
      "         117       0.00      0.00      0.00         0\n",
      "         118       0.00      0.00      0.00         1\n",
      "         136       0.00      0.00      0.00         1\n",
      "         148       0.00      0.00      0.00         1\n",
      "         180       0.00      0.00      0.00         0\n",
      "         215       0.00      0.00      0.00         1\n",
      "         216       0.00      0.00      0.00         0\n",
      "         247       0.00      0.00      0.00         1\n",
      "         251       0.00      0.00      0.00         2\n",
      "         261       1.00      1.00      1.00         1\n",
      "         277       0.00      0.00      0.00         1\n",
      "         283       0.00      0.00      0.00         1\n",
      "         289       0.00      0.00      0.00         0\n",
      "         311       0.00      0.00      0.00         1\n",
      "         324       0.50      0.50      0.50         2\n",
      "         347       0.00      0.00      0.00         1\n",
      "         361       0.00      0.00      0.00         1\n",
      "         362       0.00      0.00      0.00         1\n",
      "         374       0.00      0.00      0.00         2\n",
      "         379       0.00      0.00      0.00         1\n",
      "         396       0.00      0.00      0.00         1\n",
      "         407       0.00      0.00      0.00         0\n",
      "         413       0.00      0.00      0.00         2\n",
      "         419       0.00      0.00      0.00         1\n",
      "         426       0.00      0.00      0.00         1\n",
      "         427       0.00      0.00      0.00         1\n",
      "         439       0.00      0.00      0.00         1\n",
      "         449       0.00      0.00      0.00         0\n",
      "         495       0.00      0.00      0.00         1\n",
      "         498       1.00      1.00      1.00         1\n",
      "         511       0.00      0.00      0.00         1\n",
      "         569       0.00      0.00      0.00         0\n",
      "         595       0.00      0.00      0.00         2\n",
      "         598       0.00      0.00      0.00         1\n",
      "         622       0.00      0.00      0.00         1\n",
      "         630       0.00      0.00      0.00         1\n",
      "         636       0.00      0.00      0.00         2\n",
      "         646       0.00      0.00      0.00         1\n",
      "         651       0.00      0.00      0.00         1\n",
      "         686       0.00      0.00      0.00         1\n",
      "         700       1.00      0.50      0.67         2\n",
      "         701       0.20      0.50      0.29         2\n",
      "         726       0.00      0.00      0.00         1\n",
      "         739       0.00      0.00      0.00         2\n",
      "         758       1.00      1.00      1.00         1\n",
      "         766       0.00      0.00      0.00         1\n",
      "         771       0.00      0.00      0.00         1\n",
      "         773       0.00      0.00      0.00         1\n",
      "         782       0.00      0.00      0.00         2\n",
      "         803       0.00      0.00      0.00         0\n",
      "         810       0.00      0.00      0.00         2\n",
      "         816       0.00      0.00      0.00         1\n",
      "         839       0.00      0.00      0.00         1\n",
      "         840       0.00      0.00      0.00         1\n",
      "         871       0.00      0.00      0.00         1\n",
      "         875       0.00      0.00      0.00         0\n",
      "         876       0.67      1.00      0.80         2\n",
      "         880       0.00      0.00      0.00         1\n",
      "         896       0.00      0.00      0.00         1\n",
      "         908       0.00      0.00      0.00         2\n",
      "         912       0.00      0.00      0.00         1\n",
      "         924       0.00      0.00      0.00         1\n",
      "         953       0.00      0.00      0.00         1\n",
      "         972       0.00      0.00      0.00         1\n",
      "         980       0.00      0.00      0.00         1\n",
      "        1010       0.00      0.00      0.00         1\n",
      "        1017       1.00      0.50      0.67         2\n",
      "        1024       0.33      0.67      0.44         3\n",
      "        1037       0.00      0.00      0.00         1\n",
      "        1041       0.00      0.00      0.00         0\n",
      "        1045       0.21      0.76      0.33        21\n",
      "        1049       0.00      0.00      0.00         2\n",
      "        1052       0.07      0.60      0.12         5\n",
      "        1061       0.00      0.00      0.00         0\n",
      "        1072       0.00      0.00      0.00         1\n",
      "        1074       0.00      0.00      0.00         0\n",
      "        1076       0.00      0.00      0.00         0\n",
      "        1079       0.00      0.00      0.00         1\n",
      "        1084       0.00      0.00      0.00         5\n",
      "        1117       0.00      0.00      0.00         1\n",
      "        1138       0.00      0.00      0.00         1\n",
      "        1139       0.00      0.00      0.00         1\n",
      "        1164       0.00      0.00      0.00         1\n",
      "        1186       1.00      0.40      0.57         5\n",
      "        1193       0.00      0.00      0.00         1\n",
      "        1194       0.00      0.00      0.00         5\n",
      "        1209       0.00      0.00      0.00         1\n",
      "        1213       0.00      0.00      0.00         1\n",
      "        1236       0.00      0.00      0.00         1\n",
      "        1251       0.11      0.40      0.17         5\n",
      "        1254       1.00      1.00      1.00         1\n",
      "        1295       1.00      0.17      0.29         6\n",
      "        1296       0.00      0.00      0.00         1\n",
      "        1306       0.00      0.00      0.00         1\n",
      "        1337       0.00      0.00      0.00         1\n",
      "        1344       0.00      0.00      0.00         1\n",
      "        1351       0.00      0.00      0.00         1\n",
      "        1353       0.00      0.00      0.00         0\n",
      "        1409       0.00      0.00      0.00         1\n",
      "        1415       0.00      0.00      0.00         1\n",
      "        1425       0.00      0.00      0.00         1\n",
      "        1453       0.00      0.00      0.00         1\n",
      "        1538       0.00      0.00      0.00         3\n",
      "        1539       0.00      0.00      0.00         1\n",
      "        1541       0.00      0.00      0.00         1\n",
      "        1552       0.00      0.00      0.00         1\n",
      "        1563       1.00      1.00      1.00         1\n",
      "        1592       0.00      0.00      0.00         2\n",
      "        1602       0.00      0.00      0.00         0\n",
      "        1607       0.00      0.00      0.00         0\n",
      "        1646       0.00      0.00      0.00         1\n",
      "        1687       0.00      0.00      0.00         3\n",
      "        1724       0.00      0.00      0.00         4\n",
      "        1746       0.00      0.00      0.00         1\n",
      "        1762       0.00      0.00      0.00         1\n",
      "        1812       0.00      0.00      0.00         2\n",
      "        1835       0.00      0.00      0.00         1\n",
      "        1889       0.00      0.00      0.00         1\n",
      "        1893       0.00      0.00      0.00         1\n",
      "        1960       0.00      0.00      0.00         1\n",
      "        1965       0.00      0.00      0.00         1\n",
      "        1971       1.00      1.00      1.00         1\n",
      "        1991       0.00      0.00      0.00         1\n",
      "        2128       0.00      0.00      0.00         1\n",
      "        2181       0.00      0.00      0.00         1\n",
      "        2385       0.00      0.00      0.00         2\n",
      "        2431       0.00      0.00      0.00         1\n",
      "        2472       0.00      0.00      0.00         2\n",
      "        2491       0.00      0.00      0.00         1\n",
      "        2516       0.00      0.00      0.00         1\n",
      "        2594       0.00      0.00      0.00         2\n",
      "        2599       0.00      0.00      0.00         1\n",
      "        2718       0.00      0.00      0.00         1\n",
      "        2821       0.00      0.00      0.00         1\n",
      "        2860       0.00      0.00      0.00         1\n",
      "        3027       0.50      1.00      0.67         1\n",
      "        3137       0.00      0.00      0.00         1\n",
      "        3169       0.00      0.00      0.00         1\n",
      "        3193       0.00      0.00      0.00         1\n",
      "        3427       0.00      0.00      0.00         1\n",
      "        3478       0.00      0.00      0.00         1\n",
      "        3525       0.00      0.00      0.00         1\n",
      "        3780       0.00      0.00      0.00         1\n",
      "        3855       0.00      0.00      0.00         0\n",
      "        4084       0.00      0.00      0.00         1\n",
      "        4263       0.00      0.00      0.00         1\n",
      "        4298       0.00      0.00      0.00         1\n",
      "        4306       0.00      0.00      0.00         1\n",
      "        4342       0.00      0.00      0.00         1\n",
      "        4442       0.00      0.00      0.00         1\n",
      "        4533       0.00      0.00      0.00         1\n",
      "        4631       0.00      0.00      0.00         0\n",
      "        4803       0.00      0.00      0.00         1\n",
      "        4840       0.00      0.00      0.00         1\n",
      "        5112       0.00      0.00      0.00         0\n",
      "        5149       0.00      0.00      0.00         1\n",
      "        5173       1.00      1.00      1.00         1\n",
      "        5288       0.00      0.00      0.00         1\n",
      "        5956       0.00      0.00      0.00         1\n",
      "        6455       1.00      1.00      1.00         1\n",
      "        6791       0.00      0.00      0.00         1\n",
      "        6856       0.00      0.00      0.00         1\n",
      "        7453       0.00      0.00      0.00         1\n",
      "        7644       0.00      0.00      0.00         1\n",
      "        7943       0.00      0.00      0.00         1\n",
      "        8227       0.00      0.00      0.00         1\n",
      "        8712       0.00      0.00      0.00         1\n",
      "        9005       0.00      0.00      0.00         1\n",
      "        9147       0.00      0.00      0.00         0\n",
      "        9692       0.00      0.00      0.00         1\n",
      "       11144       0.00      0.00      0.00         1\n",
      "       11355       0.00      0.00      0.00         1\n",
      "       13308       0.00      0.00      0.00         1\n",
      "       14004       0.00      0.00      0.00         1\n",
      "       15144       0.00      0.00      0.00         1\n",
      "       15401       0.00      0.00      0.00         1\n",
      "       15758       0.00      0.00      0.00         1\n",
      "       16253       0.00      0.00      0.00         1\n",
      "       16410       0.00      0.00      0.00         1\n",
      "       20738       0.00      0.00      0.00         1\n",
      "       21398       0.00      0.00      0.00         1\n",
      "       22027       0.00      0.00      0.00         1\n",
      "       31519       0.00      0.00      0.00         1\n",
      "       31805       0.00      0.00      0.00         0\n",
      "       33137       0.00      0.00      0.00         1\n",
      "       33484       0.00      0.00      0.00         1\n",
      "       34219       0.00      0.00      0.00         1\n",
      "       36096       0.00      0.00      0.00         1\n",
      "       41410       0.00      0.00      0.00         1\n",
      "       46942       0.00      0.00      0.00         1\n",
      "       48527       0.00      0.00      0.00         1\n",
      "       50498       0.00      0.00      0.00         1\n",
      "       51388       0.00      0.00      0.00         1\n",
      "       53146       0.00      0.00      0.00         1\n",
      "       80654       0.00      0.00      0.00         1\n",
      "       99418       0.00      0.00      0.00         1\n",
      "      131821       0.00      0.00      0.00         1\n",
      "      175486       0.00      0.00      0.00         1\n",
      "      229179       0.00      0.00      0.00         1\n",
      "      267034       0.00      0.00      0.00         1\n",
      "      306227       0.00      0.00      0.00         1\n",
      "      480439       0.00      0.00      0.00         1\n",
      "\n",
      "    accuracy                           0.17       291\n",
      "   macro avg       0.08      0.08      0.07       291\n",
      "weighted avg       0.13      0.17      0.12       291\n",
      "\n"
     ]
    },
    {
     "name": "stderr",
     "output_type": "stream",
     "text": [
      "c:\\users\\akhil\\appdata\\local\\programs\\python\\python39\\lib\\site-packages\\sklearn\\metrics\\_classification.py:1248: UndefinedMetricWarning: Precision and F-score are ill-defined and being set to 0.0 in labels with no predicted samples. Use `zero_division` parameter to control this behavior.\n",
      "  _warn_prf(average, modifier, msg_start, len(result))\n",
      "c:\\users\\akhil\\appdata\\local\\programs\\python\\python39\\lib\\site-packages\\sklearn\\metrics\\_classification.py:1248: UndefinedMetricWarning: Recall and F-score are ill-defined and being set to 0.0 in labels with no true samples. Use `zero_division` parameter to control this behavior.\n",
      "  _warn_prf(average, modifier, msg_start, len(result))\n",
      "c:\\users\\akhil\\appdata\\local\\programs\\python\\python39\\lib\\site-packages\\sklearn\\metrics\\_classification.py:1248: UndefinedMetricWarning: Precision and F-score are ill-defined and being set to 0.0 in labels with no predicted samples. Use `zero_division` parameter to control this behavior.\n",
      "  _warn_prf(average, modifier, msg_start, len(result))\n",
      "c:\\users\\akhil\\appdata\\local\\programs\\python\\python39\\lib\\site-packages\\sklearn\\metrics\\_classification.py:1248: UndefinedMetricWarning: Recall and F-score are ill-defined and being set to 0.0 in labels with no true samples. Use `zero_division` parameter to control this behavior.\n",
      "  _warn_prf(average, modifier, msg_start, len(result))\n",
      "c:\\users\\akhil\\appdata\\local\\programs\\python\\python39\\lib\\site-packages\\sklearn\\metrics\\_classification.py:1248: UndefinedMetricWarning: Precision and F-score are ill-defined and being set to 0.0 in labels with no predicted samples. Use `zero_division` parameter to control this behavior.\n",
      "  _warn_prf(average, modifier, msg_start, len(result))\n",
      "c:\\users\\akhil\\appdata\\local\\programs\\python\\python39\\lib\\site-packages\\sklearn\\metrics\\_classification.py:1248: UndefinedMetricWarning: Recall and F-score are ill-defined and being set to 0.0 in labels with no true samples. Use `zero_division` parameter to control this behavior.\n",
      "  _warn_prf(average, modifier, msg_start, len(result))\n"
     ]
    }
   ],
   "source": [
    "conf_matrix=confusion_matrix(Y_test,y_pred)\n",
    "class_report=classification_report(Y_test,y_pred)\n",
    "print(conf_matrix)\n",
    "print(class_report)"
   ]
  },
  {
   "cell_type": "code",
   "execution_count": 58,
   "id": "f4ec795d",
   "metadata": {},
   "outputs": [
    {
     "data": {
      "text/plain": [
       "['trained_model_DTC.joblib']"
      ]
     },
     "execution_count": 58,
     "metadata": {},
     "output_type": "execute_result"
    }
   ],
   "source": [
    "import joblib\n",
    "joblib.dump(model, 'trained_model_DTC.joblib')"
   ]
  },
  {
   "cell_type": "code",
   "execution_count": 60,
   "id": "61a1ffa1",
   "metadata": {},
   "outputs": [
    {
     "name": "stdout",
     "output_type": "stream",
     "text": [
      "[811]\n"
     ]
    }
   ],
   "source": [
    "# check whether the model is able to predict or not\n",
    "print(joblib.load('trained_model_DTC.joblib').predict([[196577, 772454, 889445, 13827]]))"
   ]
  },
  {
   "cell_type": "code",
   "execution_count": 61,
   "id": "71aa7f19",
   "metadata": {},
   "outputs": [
    {
     "data": {
      "text/plain": [
       "(110775, 5)"
      ]
     },
     "execution_count": 61,
     "metadata": {},
     "output_type": "execute_result"
    }
   ],
   "source": [
    "# reading the test.csv file\n",
    "testing =pd.read_csv(\"test.csv\",quoting=csv.QUOTE_NONE, escapechar='\\\\')\n",
    "testing.shape"
   ]
  },
  {
   "cell_type": "code",
   "execution_count": 62,
   "id": "99c5c7da",
   "metadata": {},
   "outputs": [
    {
     "data": {
      "text/plain": [
       "PRODUCT_ID       False\n",
       "TITLE             True\n",
       "DESCRIPTION       True\n",
       "BULLET_POINTS     True\n",
       "BRAND             True\n",
       "dtype: bool"
      ]
     },
     "execution_count": 62,
     "metadata": {},
     "output_type": "execute_result"
    }
   ],
   "source": [
    "# checking whether there is any null value or not \n",
    "testing.isnull().any()"
   ]
  },
  {
   "cell_type": "code",
   "execution_count": 63,
   "id": "d64cac6e",
   "metadata": {},
   "outputs": [],
   "source": [
    "# replacing all the null values by 'U'\n",
    "testing['TITLE'].fillna('U', inplace=True)\n",
    "testing['DESCRIPTION'].fillna('U', inplace=True)\n",
    "testing['BULLET_POINTS'].fillna('U', inplace=True)\n",
    "testing['BRAND'].fillna('U', inplace=True)"
   ]
  },
  {
   "cell_type": "code",
   "execution_count": 64,
   "id": "3b1752fa",
   "metadata": {},
   "outputs": [],
   "source": [
    "# Encode labels in columns so that the format of training and testing data match\n",
    "from sklearn.preprocessing import LabelEncoder\n",
    "label_encoders=LabelEncoder()\n",
    "testing['TITLE']= label_encoders.fit_transform(testing['TITLE']) \n",
    "testing['DESCRIPTION']= label_encoders.fit_transform(testing['DESCRIPTION']) \n",
    "testing['BULLET_POINTS']= label_encoders.fit_transform(testing['BULLET_POINTS']) \n",
    "testing['BRAND']= label_encoders.fit_transform(testing['BRAND']) \n",
    "tests = testing.drop(columns = ['PRODUCT_ID'])"
   ]
  },
  {
   "cell_type": "code",
   "execution_count": 65,
   "id": "13eda9b8",
   "metadata": {},
   "outputs": [
    {
     "name": "stdout",
     "output_type": "stream",
     "text": [
      "0.16151202749140894\n"
     ]
    }
   ],
   "source": [
    "# check the accuracy of model\n",
    "preds = model.predict(X_test)\n",
    "accuracy = metrics.accuracy_score(Y_test, preds)\n",
    "print(accuracy)"
   ]
  },
  {
   "cell_type": "code",
   "execution_count": 66,
   "id": "3aa88c94",
   "metadata": {},
   "outputs": [
    {
     "name": "stdout",
     "output_type": "stream",
     "text": [
      "[811 811 811 ... 811 811 811]\n"
     ]
    }
   ],
   "source": [
    "# predictions is an array, which will store the output('BROWSE_NODE_ID') of the given test.csv file\n",
    "predictions = model.predict(tests)\n",
    "print(predictions)"
   ]
  },
  {
   "cell_type": "code",
   "execution_count": 67,
   "id": "a778bb0a",
   "metadata": {},
   "outputs": [],
   "source": [
    "# Format predictions in DataFrame: prediction_df\n",
    "prediction_df = pd.DataFrame(data=predictions)\n",
    "\n",
    "# Save prediction_df to csv file\n",
    "prediction_df.to_csv('submission_DTC.csv')"
   ]
  },
  {
   "cell_type": "code",
   "execution_count": null,
   "id": "76b29790",
   "metadata": {},
   "outputs": [],
   "source": []
  },
  {
   "cell_type": "code",
   "execution_count": null,
   "id": "b680c86c",
   "metadata": {},
   "outputs": [],
   "source": []
  }
 ],
 "metadata": {
  "kernelspec": {
   "display_name": "Python 3 (ipykernel)",
   "language": "python",
   "name": "python3"
  },
  "language_info": {
   "codemirror_mode": {
    "name": "ipython",
    "version": 3
   },
   "file_extension": ".py",
   "mimetype": "text/x-python",
   "name": "python",
   "nbconvert_exporter": "python",
   "pygments_lexer": "ipython3",
   "version": "3.9.6"
  }
 },
 "nbformat": 4,
 "nbformat_minor": 5
}
